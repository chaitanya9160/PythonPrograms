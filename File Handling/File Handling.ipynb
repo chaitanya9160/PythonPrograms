{
 "cells": [
  {
   "cell_type": "markdown",
   "id": "eeb2b8fe",
   "metadata": {},
   "source": [
    "File handling is a process of handling files using python program.\n",
    "File handling is used to store data for the permanent.\n",
    "in this we can do read write and append operation into a file using python program\n"
   ]
  },
  {
   "cell_type": "code",
   "execution_count": 1,
   "id": "ad97f3f2",
   "metadata": {},
   "outputs": [],
   "source": [
    "age=24"
   ]
  },
  {
   "cell_type": "code",
   "execution_count": 2,
   "id": "7e69d944",
   "metadata": {},
   "outputs": [
    {
     "data": {
      "text/plain": [
       "24"
      ]
     },
     "execution_count": 2,
     "metadata": {},
     "output_type": "execute_result"
    }
   ],
   "source": [
    "age"
   ]
  },
  {
   "cell_type": "code",
   "execution_count": 3,
   "id": "20f5d4af",
   "metadata": {},
   "outputs": [
    {
     "data": {
      "text/plain": [
       "24"
      ]
     },
     "execution_count": 3,
     "metadata": {},
     "output_type": "execute_result"
    }
   ],
   "source": [
    "age"
   ]
  },
  {
   "cell_type": "markdown",
   "id": "d00b48c5",
   "metadata": {},
   "source": [
    "File handling means:\n",
    "Opening a file.\n",
    "performimg some operations on it\n",
    "closing a file."
   ]
  },
  {
   "cell_type": "markdown",
   "id": "f32187da",
   "metadata": {},
   "source": [
    "what is text file?\n",
    "A file contaning ASCII characters or unicode character also called ASCII file. .txt, .rtf\n",
    "1)Regular text file\n",
    "2)Comma separated file\n",
    "3)Tab Separated file\n",
    "\n",
    "binary file-contains non-ASCII code"
   ]
  },
  {
   "cell_type": "markdown",
   "id": "0df367f8",
   "metadata": {},
   "source": [
    "Operation on file:\n",
    "create file\n",
    "writing into a file from the scree\n",
    "reading from file and printion into scree\n",
    "reading file and writing to another file"
   ]
  },
  {
   "cell_type": "markdown",
   "id": "b2907495",
   "metadata": {},
   "source": [
    "Types of file:\n",
    "    \n",
    "  1)Text file:\n",
    "  ASCII of unicode file that contain characters\n",
    "  It take more memory space\n",
    "  eg.text file,docs file\n",
    "  format:CSV \n",
    "  \n",
    "  2)Binary file\n",
    "  \n",
    "  "
   ]
  },
  {
   "cell_type": "markdown",
   "id": "63e86770",
   "metadata": {},
   "source": [
    "# Basic file operation\n",
    "\n",
    "1.Reading a file(\"r\" mode)\n",
    "2.Write in file(\"w\" mode)\n",
    "3.Append in file(\"a\" mode)"
   ]
  },
  {
   "cell_type": "markdown",
   "id": "025e9c5e",
   "metadata": {},
   "source": [
    "open()=to open file\n",
    "close()=to close file\n",
    "read()=read by character\n",
    "readline()=read by 1 line"
   ]
  },
  {
   "cell_type": "markdown",
   "id": "673440cc",
   "metadata": {},
   "source": [
    "# Write mode"
   ]
  },
  {
   "cell_type": "code",
   "execution_count": 1,
   "id": "b6dc9780",
   "metadata": {},
   "outputs": [
    {
     "data": {
      "text/plain": [
       "<_io.TextIOWrapper name='abc.txt' mode='w' encoding='cp1252'>"
      ]
     },
     "execution_count": 1,
     "metadata": {},
     "output_type": "execute_result"
    }
   ],
   "source": [
    "open(\"abc.txt\",\"w\")"
   ]
  },
  {
   "cell_type": "code",
   "execution_count": 2,
   "id": "0eb16d78",
   "metadata": {},
   "outputs": [
    {
     "data": {
      "text/plain": [
       "<_io.TextIOWrapper name='abc.txt' mode='w' encoding='cp1252'>"
      ]
     },
     "execution_count": 2,
     "metadata": {},
     "output_type": "execute_result"
    }
   ],
   "source": [
    "x=open(\"abc.txt\",\"w\")\n",
    "x"
   ]
  },
  {
   "cell_type": "code",
   "execution_count": 4,
   "id": "077b0461",
   "metadata": {},
   "outputs": [
    {
     "name": "stdout",
     "output_type": "stream",
     "text": [
      "11\n"
     ]
    }
   ],
   "source": [
    "print(x.write(\"i can do it\"));"
   ]
  },
  {
   "cell_type": "code",
   "execution_count": 5,
   "id": "bdf7b01b",
   "metadata": {},
   "outputs": [],
   "source": [
    "x.close()"
   ]
  },
  {
   "cell_type": "markdown",
   "id": "d633866b",
   "metadata": {},
   "source": [
    "## Read mode "
   ]
  },
  {
   "cell_type": "code",
   "execution_count": 16,
   "id": "0f5739f2",
   "metadata": {},
   "outputs": [],
   "source": [
    "x=open(\"abc.txt\",\"r\")"
   ]
  },
  {
   "cell_type": "code",
   "execution_count": 17,
   "id": "49af2ed6",
   "metadata": {},
   "outputs": [
    {
     "name": "stdout",
     "output_type": "stream",
     "text": [
      "i can do it\n"
     ]
    }
   ],
   "source": [
    "print(x.read())\n",
    "x.close()"
   ]
  },
  {
   "cell_type": "code",
   "execution_count": 18,
   "id": "ef69c2e2",
   "metadata": {},
   "outputs": [
    {
     "name": "stdout",
     "output_type": "stream",
     "text": [
      "i can do it\n"
     ]
    }
   ],
   "source": [
    "x=open(\"abc.txt\",\"r\")\n",
    "print(x.read())\n",
    "x.close()"
   ]
  },
  {
   "cell_type": "code",
   "execution_count": 19,
   "id": "83a81816",
   "metadata": {},
   "outputs": [
    {
     "name": "stdout",
     "output_type": "stream",
     "text": [
      "i can do it\n"
     ]
    }
   ],
   "source": [
    "x=open(\"abc.txt\",\"r\")\n",
    "print(x.readline())    #used for linewise\n",
    "x.close()"
   ]
  },
  {
   "cell_type": "code",
   "execution_count": 20,
   "id": "bf643288",
   "metadata": {},
   "outputs": [
    {
     "name": "stdout",
     "output_type": "stream",
     "text": [
      "i can do it\n",
      "\n"
     ]
    }
   ],
   "source": [
    "x=open(\"abc.txt\",\"r\")\n",
    "for i in range(1,3):      #print 1 to 3 lines print \n",
    "    print(x.readline())\n",
    "x.close()"
   ]
  },
  {
   "cell_type": "markdown",
   "id": "ee0553db",
   "metadata": {},
   "source": [
    "# apend mode"
   ]
  },
  {
   "cell_type": "code",
   "execution_count": 25,
   "id": "83fe24b5",
   "metadata": {},
   "outputs": [],
   "source": [
    "f=open(\"abc.txt\",\"a\")   #a =is used for append mode\n",
    "f.write(\"\\n currently i'm learning python\")\n",
    "\n",
    "f.close()"
   ]
  },
  {
   "cell_type": "code",
   "execution_count": 26,
   "id": "d7e16eae",
   "metadata": {},
   "outputs": [
    {
     "name": "stdout",
     "output_type": "stream",
     "text": [
      "i can do it\n",
      " currently i'm learning python\n",
      " currently i'm learning python\n",
      "75\n"
     ]
    }
   ],
   "source": [
    "f=open(\"abc.txt\",\"r\")\n",
    "f.seek(0)    #for used...starting position \n",
    "print(f.read())\n",
    "print(f.tell())   #find total length in that strings \n",
    "f.close()"
   ]
  },
  {
   "cell_type": "markdown",
   "id": "4e847a19",
   "metadata": {},
   "source": [
    "# a+(append,write and read)"
   ]
  },
  {
   "cell_type": "code",
   "execution_count": 29,
   "id": "f4943bbe",
   "metadata": {},
   "outputs": [
    {
     "name": "stdout",
     "output_type": "stream",
     "text": [
      "i can do it\n",
      " currently i'm learning python\n",
      " currently i'm learning pythonThis is new data\n",
      " This is new data\n"
     ]
    }
   ],
   "source": [
    "f=open(\"abc.txt\",\"a+\")     #at a time read write done don't use to write everytime r and w mode\n",
    "f.write(\"\\n This is new data\")\n",
    "f.seek(0)\n",
    "print(f.read())\n",
    "f.close()"
   ]
  },
  {
   "cell_type": "markdown",
   "id": "dbad64d3",
   "metadata": {},
   "source": [
    "# r+(read and  write)"
   ]
  },
  {
   "cell_type": "code",
   "execution_count": 31,
   "id": "52f52f2f",
   "metadata": {},
   "outputs": [
    {
     "name": "stdout",
     "output_type": "stream",
     "text": [
      "i can do it\n",
      " currently i'm learning python\n",
      " currently i'm learning pythonThis is new data\n",
      " This is new data\n",
      " thank you\n"
     ]
    }
   ],
   "source": [
    "f=open(\"abc.txt\",\"r+\")      #r and w mode are not to open only r+\n",
    "print(f.read())\n",
    "f.write(\"\\n thank you\")\n",
    "f.close()"
   ]
  },
  {
   "cell_type": "code",
   "execution_count": null,
   "id": "e0af9f04",
   "metadata": {},
   "outputs": [],
   "source": [
    "f=open(\"info.txt\",\"r+\")\n",
    "print(f.read())\n",
    "\n"
   ]
  }
 ],
 "metadata": {
  "kernelspec": {
   "display_name": "Python 3 (ipykernel)",
   "language": "python",
   "name": "python3"
  },
  "language_info": {
   "codemirror_mode": {
    "name": "ipython",
    "version": 3
   },
   "file_extension": ".py",
   "mimetype": "text/x-python",
   "name": "python",
   "nbconvert_exporter": "python",
   "pygments_lexer": "ipython3",
   "version": "3.11.5"
  }
 },
 "nbformat": 4,
 "nbformat_minor": 5
}
