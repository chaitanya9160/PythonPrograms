{
 "cells": [
  {
   "cell_type": "code",
   "execution_count": 12,
   "id": "8ff5d67f",
   "metadata": {},
   "outputs": [
    {
     "name": "stdout",
     "output_type": "stream",
     "text": [
      "Where no. 1 is2\n",
      "Where no. 2 is4\n",
      "0.5\n",
      "the execution is done\n"
     ]
    }
   ],
   "source": [
    "try:      #\n",
    "    a=int(input(\"Where no. 1 is\"))\n",
    "    b=int(input(\"Where no. 2 is\"))\n",
    "    c=a/b\n",
    "except NameError:\n",
    "    print(\"the user have not defined the variable\")\n",
    "except ZeroDivisionError:\n",
    "    print(\"please provide number greater than 0\")\n",
    "except TypeError:\n",
    "    print(\"try to make datatype similar\")\n",
    "except Exception as ex:\n",
    "    print(ex)\n",
    "else:\n",
    "    print(c)\n",
    "finally:\n",
    "    print(\"the execution is done\")\n",
    "    "
   ]
  },
  {
   "cell_type": "markdown",
   "id": "9766aae7",
   "metadata": {},
   "source": [
    "# Custom Exception"
   ]
  },
  {
   "cell_type": "markdown",
   "id": "fbb9af1d",
   "metadata": {},
   "source": [
    "#SYNTAX\n",
    "\n",
    "class Error(Exception):   \n",
    "    pass\n",
    "\n",
    "class dobException(Error):\n",
    "    pass\n",
    "class customgeneric(Error):\n",
    "    pass"
   ]
  },
  {
   "cell_type": "code",
   "execution_count": 17,
   "id": "8ea5dd8f",
   "metadata": {},
   "outputs": [
    {
     "name": "stdout",
     "output_type": "stream",
     "text": [
      "Enter year of birth 2003\n",
      "the age is valid,you can apply for exam\n",
      "custom exception is done\n"
     ]
    }
   ],
   "source": [
    "year=int(input(\"Enter year of birth \"))\n",
    "age=2025-year\n",
    "try:\n",
    "    if age<=30 & age>20:\n",
    "        print(\"the age is valid,you can apply for exam\")\n",
    "    else:\n",
    "        raise ageError   #cutom defined error\n",
    "except ageError:\n",
    "    print(\"the age is not within the range.you can not apply for exam\")\n",
    "    \n",
    "finally:\n",
    "    print(\"custom exception is done\")"
   ]
  },
  {
   "cell_type": "code",
   "execution_count": null,
   "id": "9a3b6ed3",
   "metadata": {},
   "outputs": [],
   "source": []
  },
  {
   "cell_type": "code",
   "execution_count": null,
   "id": "08bef919",
   "metadata": {},
   "outputs": [],
   "source": []
  }
 ],
 "metadata": {
  "kernelspec": {
   "display_name": "Python 3 (ipykernel)",
   "language": "python",
   "name": "python3"
  },
  "language_info": {
   "codemirror_mode": {
    "name": "ipython",
    "version": 3
   },
   "file_extension": ".py",
   "mimetype": "text/x-python",
   "name": "python",
   "nbconvert_exporter": "python",
   "pygments_lexer": "ipython3",
   "version": "3.11.5"
  }
 },
 "nbformat": 4,
 "nbformat_minor": 5
}
