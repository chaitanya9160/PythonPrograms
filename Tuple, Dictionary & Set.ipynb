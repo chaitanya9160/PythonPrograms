{
 "cells": [
  {
   "cell_type": "markdown",
   "id": "9b971fff",
   "metadata": {},
   "source": [
    "# Tuple\n",
    "1)Tuple is organized in open bracket().\n",
    "2)It is mutable data type,we cant change the element onece it is created\n",
    "3)clear is not used in tuple"
   ]
  },
  {
   "cell_type": "code",
   "execution_count": 11,
   "id": "5f2a9036",
   "metadata": {},
   "outputs": [
    {
     "data": {
      "text/plain": [
       "tuple"
      ]
     },
     "execution_count": 11,
     "metadata": {},
     "output_type": "execute_result"
    }
   ],
   "source": [
    "info=('Trupti',1,2,True,1,2)\n",
    "type(info)"
   ]
  },
  {
   "cell_type": "code",
   "execution_count": 3,
   "id": "7f535bb9",
   "metadata": {},
   "outputs": [
    {
     "data": {
      "text/plain": [
       "6"
      ]
     },
     "execution_count": 3,
     "metadata": {},
     "output_type": "execute_result"
    }
   ],
   "source": [
    "len(info)"
   ]
  },
  {
   "cell_type": "code",
   "execution_count": 6,
   "id": "efab924a",
   "metadata": {},
   "outputs": [
    {
     "data": {
      "text/plain": [
       "tuple"
      ]
     },
     "execution_count": 6,
     "metadata": {},
     "output_type": "execute_result"
    }
   ],
   "source": [
    "info=()\n",
    "type(info)"
   ]
  },
  {
   "cell_type": "code",
   "execution_count": 10,
   "id": "4d408369",
   "metadata": {},
   "outputs": [
    {
     "data": {
      "text/plain": [
       "10"
      ]
     },
     "execution_count": 10,
     "metadata": {},
     "output_type": "execute_result"
    }
   ],
   "source": [
    "#Packing and unpacking\n",
    "a,b,c,d=(10,20,30,40)\n",
    "a"
   ]
  },
  {
   "cell_type": "code",
   "execution_count": 12,
   "id": "00ff9ba6",
   "metadata": {},
   "outputs": [
    {
     "data": {
      "text/plain": [
       "('Trupti', 1, 2, True, 1, 2)"
      ]
     },
     "execution_count": 12,
     "metadata": {},
     "output_type": "execute_result"
    }
   ],
   "source": [
    "info"
   ]
  },
  {
   "cell_type": "code",
   "execution_count": 13,
   "id": "688ca6e6",
   "metadata": {},
   "outputs": [
    {
     "data": {
      "text/plain": [
       "('Trupti', 1, 2, 4, 1, 2)"
      ]
     },
     "execution_count": 13,
     "metadata": {},
     "output_type": "execute_result"
    }
   ],
   "source": [
    "#Mutable: tuple is not changeble so we convert tuple to list\n",
    "x=list(info)\n",
    "x[3]=4\n",
    "info=tuple(x)\n",
    "info"
   ]
  },
  {
   "cell_type": "code",
   "execution_count": 14,
   "id": "b20809e3",
   "metadata": {},
   "outputs": [
    {
     "data": {
      "text/plain": [
       "'Trupti'"
      ]
     },
     "execution_count": 14,
     "metadata": {},
     "output_type": "execute_result"
    }
   ],
   "source": [
    "#indexing and slicing\n",
    "info[0]"
   ]
  },
  {
   "cell_type": "code",
   "execution_count": 15,
   "id": "b68e6756",
   "metadata": {},
   "outputs": [
    {
     "data": {
      "text/plain": [
       "2"
      ]
     },
     "execution_count": 15,
     "metadata": {},
     "output_type": "execute_result"
    }
   ],
   "source": [
    "info[-1]"
   ]
  },
  {
   "cell_type": "code",
   "execution_count": 16,
   "id": "d6ed52a6",
   "metadata": {},
   "outputs": [
    {
     "data": {
      "text/plain": [
       "(1, 4, 2)"
      ]
     },
     "execution_count": 16,
     "metadata": {},
     "output_type": "execute_result"
    }
   ],
   "source": [
    "info[1::2]"
   ]
  },
  {
   "cell_type": "code",
   "execution_count": 17,
   "id": "70b4fea0",
   "metadata": {},
   "outputs": [
    {
     "data": {
      "text/plain": [
       "(2, 1, 4, 2, 1, 'Trupti')"
      ]
     },
     "execution_count": 17,
     "metadata": {},
     "output_type": "execute_result"
    }
   ],
   "source": [
    "info[::-1]"
   ]
  },
  {
   "cell_type": "markdown",
   "id": "f7d002d1",
   "metadata": {},
   "source": [
    "# Dictionry:\n",
    "1) We can create a dict in the form of key-value pair\n",
    "2) key is not repete in one dict but values can be repeted.\n",
    "3) It is organized in{} bracket.\n",
    "4) It is unordered data type so we can't use indexing or slicing on it."
   ]
  },
  {
   "cell_type": "code",
   "execution_count": 20,
   "id": "9e124d28",
   "metadata": {},
   "outputs": [
    {
     "data": {
      "text/plain": [
       "{'name': 'chaitanya', 'age': 20, 'marks': 90}"
      ]
     },
     "execution_count": 20,
     "metadata": {},
     "output_type": "execute_result"
    }
   ],
   "source": [
    "nmce={'name':'chaitanya','age':20,'marks':90}\n",
    "nmce"
   ]
  },
  {
   "cell_type": "code",
   "execution_count": 21,
   "id": "b66cc932",
   "metadata": {},
   "outputs": [
    {
     "data": {
      "text/plain": [
       "dict"
      ]
     },
     "execution_count": 21,
     "metadata": {},
     "output_type": "execute_result"
    }
   ],
   "source": [
    "type(nmce)"
   ]
  },
  {
   "cell_type": "code",
   "execution_count": 24,
   "id": "535efeda",
   "metadata": {},
   "outputs": [
    {
     "data": {
      "text/plain": [
       "{'name': ['Aditi', 'Chaitanya', 'Shweta'],\n",
       " 'age': [20, 21, 23],\n",
       " 'marks': [30, 40, 50]}"
      ]
     },
     "execution_count": 24,
     "metadata": {},
     "output_type": "execute_result"
    }
   ],
   "source": [
    "#key is not repeted\n",
    "nmce1={\"name\":[\"Aditi\",\"Chaitanya\",\"Shweta\"],\"age\":[20,21,23],\"marks\":[80,90,85],\"marks\":[30,40,50]}\n",
    "nmce1"
   ]
  },
  {
   "cell_type": "code",
   "execution_count": 25,
   "id": "57f8f0df",
   "metadata": {},
   "outputs": [
    {
     "data": {
      "text/plain": [
       "['Aditi', 'Chaitanya', 'Shweta']"
      ]
     },
     "execution_count": 25,
     "metadata": {},
     "output_type": "execute_result"
    }
   ],
   "source": [
    "#get\n",
    "nmce1.get(\"name\")"
   ]
  },
  {
   "cell_type": "code",
   "execution_count": 26,
   "id": "fc785005",
   "metadata": {},
   "outputs": [
    {
     "data": {
      "text/plain": [
       "dict_keys(['name', 'age', 'marks'])"
      ]
     },
     "execution_count": 26,
     "metadata": {},
     "output_type": "execute_result"
    }
   ],
   "source": [
    "#keys\n",
    "nmce1.keys()"
   ]
  },
  {
   "cell_type": "code",
   "execution_count": 27,
   "id": "83ec2a1f",
   "metadata": {},
   "outputs": [
    {
     "data": {
      "text/plain": [
       "dict_values([['Aditi', 'Chaitanya', 'Shweta'], [20, 21, 23], [30, 40, 50]])"
      ]
     },
     "execution_count": 27,
     "metadata": {},
     "output_type": "execute_result"
    }
   ],
   "source": [
    "#values\n",
    "nmce1.values()"
   ]
  },
  {
   "cell_type": "code",
   "execution_count": 29,
   "id": "b60fe111",
   "metadata": {},
   "outputs": [
    {
     "data": {
      "text/plain": [
       "{'name': ['Aditi', 'Chaitanya', 'Shweta'],\n",
       " 'age': [20, 21, 23],\n",
       " 'marks': [30, 40, 50],\n",
       " 'roll': [101, 102, 103]}"
      ]
     },
     "execution_count": 29,
     "metadata": {},
     "output_type": "execute_result"
    }
   ],
   "source": [
    "#update\n",
    "nmce1.update({\"roll\":[101,102,103]})\n",
    "nmce1"
   ]
  },
  {
   "cell_type": "code",
   "execution_count": 32,
   "id": "26913bce",
   "metadata": {},
   "outputs": [
    {
     "data": {
      "text/plain": [
       "[101, 102, 103]"
      ]
     },
     "execution_count": 32,
     "metadata": {},
     "output_type": "execute_result"
    }
   ],
   "source": [
    "#pop\n",
    "nmce1.pop(\"roll\")"
   ]
  },
  {
   "cell_type": "code",
   "execution_count": 33,
   "id": "63655c07",
   "metadata": {},
   "outputs": [
    {
     "data": {
      "text/plain": [
       "{'name': ['Aditi', 'Chaitanya', 'Shweta'],\n",
       " 'age': [20, 21, 23],\n",
       " 'marks': [30, 40, 50]}"
      ]
     },
     "execution_count": 33,
     "metadata": {},
     "output_type": "execute_result"
    }
   ],
   "source": [
    "nmce1"
   ]
  },
  {
   "cell_type": "code",
   "execution_count": 34,
   "id": "77c8aca5",
   "metadata": {},
   "outputs": [
    {
     "data": {
      "text/plain": [
       "('marks', [30, 40, 50])"
      ]
     },
     "execution_count": 34,
     "metadata": {},
     "output_type": "execute_result"
    }
   ],
   "source": [
    "#deleted the last key:value pair\n",
    "nmce1.popitem()"
   ]
  },
  {
   "cell_type": "code",
   "execution_count": 35,
   "id": "2e5ab093",
   "metadata": {},
   "outputs": [
    {
     "data": {
      "text/plain": [
       "{'name': ['Aditi', 'Chaitanya', 'Shweta'], 'age': [20, 21, 23]}"
      ]
     },
     "execution_count": 35,
     "metadata": {},
     "output_type": "execute_result"
    }
   ],
   "source": [
    "nmce1"
   ]
  },
  {
   "cell_type": "code",
   "execution_count": 36,
   "id": "c338d6a3",
   "metadata": {},
   "outputs": [
    {
     "data": {
      "text/plain": [
       "{'name': ['Aditi', 'Chaitanya', 'Shweta'], 'age': [20, 21, 23]}"
      ]
     },
     "execution_count": 36,
     "metadata": {},
     "output_type": "execute_result"
    }
   ],
   "source": [
    "#copy\n",
    "dyp=nmce1.copy()\n",
    "dyp"
   ]
  },
  {
   "cell_type": "code",
   "execution_count": 37,
   "id": "b585a136",
   "metadata": {},
   "outputs": [
    {
     "data": {
      "text/plain": [
       "dict_items([('name', ['Aditi', 'Chaitanya', 'Shweta']), ('age', [20, 21, 23])])"
      ]
     },
     "execution_count": 37,
     "metadata": {},
     "output_type": "execute_result"
    }
   ],
   "source": [
    "#items()\n",
    "dyp.items()"
   ]
  },
  {
   "cell_type": "code",
   "execution_count": 38,
   "id": "8e639e35",
   "metadata": {},
   "outputs": [],
   "source": [
    "#clear\n",
    "dyp.clear()"
   ]
  },
  {
   "cell_type": "code",
   "execution_count": 39,
   "id": "56c564a1",
   "metadata": {},
   "outputs": [
    {
     "data": {
      "text/plain": [
       "{}"
      ]
     },
     "execution_count": 39,
     "metadata": {},
     "output_type": "execute_result"
    }
   ],
   "source": [
    "dyp"
   ]
  },
  {
   "cell_type": "markdown",
   "id": "7488ee11",
   "metadata": {},
   "source": [
    "# Set:\n",
    "1) It is organized in {}.\n",
    "2) It does not allow duplicate elements in a list\n",
    "3) it is unorder datatype so that we can't used in indexing and slicing on it.\n"
   ]
  },
  {
   "cell_type": "code",
   "execution_count": 3,
   "id": "0e820b43",
   "metadata": {},
   "outputs": [
    {
     "data": {
      "text/plain": [
       "set"
      ]
     },
     "execution_count": 3,
     "metadata": {},
     "output_type": "execute_result"
    }
   ],
   "source": [
    "a={2,9,\"pooja\",2,2,2}\n",
    "type(a)"
   ]
  },
  {
   "cell_type": "code",
   "execution_count": 41,
   "id": "14d2eba5",
   "metadata": {},
   "outputs": [
    {
     "data": {
      "text/plain": [
       "{2, 9, 'pooja'}"
      ]
     },
     "execution_count": 41,
     "metadata": {},
     "output_type": "execute_result"
    }
   ],
   "source": [
    "#repeted element is automatically removed\n",
    "a"
   ]
  },
  {
   "cell_type": "code",
   "execution_count": 44,
   "id": "4277283b",
   "metadata": {},
   "outputs": [
    {
     "data": {
      "text/plain": [
       "3"
      ]
     },
     "execution_count": 44,
     "metadata": {},
     "output_type": "execute_result"
    }
   ],
   "source": [
    "len(a)"
   ]
  },
  {
   "cell_type": "code",
   "execution_count": 4,
   "id": "85905a2c",
   "metadata": {},
   "outputs": [
    {
     "data": {
      "text/plain": [
       "{2, 9, 'pooja', 'saniya'}"
      ]
     },
     "execution_count": 4,
     "metadata": {},
     "output_type": "execute_result"
    }
   ],
   "source": [
    "#add:for adding new element in the set\n",
    "a.add(\"saniya\")\n",
    "a"
   ]
  },
  {
   "cell_type": "code",
   "execution_count": 5,
   "id": "b0520f59",
   "metadata": {},
   "outputs": [
    {
     "data": {
      "text/plain": [
       "{2, 9, 'pooja', 'saniya'}"
      ]
     },
     "execution_count": 5,
     "metadata": {},
     "output_type": "execute_result"
    }
   ],
   "source": [
    "#difference:\n",
    "b={\"mango\",\"banana\",\"apple\",\"saniya\"}\n",
    "a"
   ]
  },
  {
   "cell_type": "code",
   "execution_count": 6,
   "id": "3ef355d5",
   "metadata": {},
   "outputs": [
    {
     "data": {
      "text/plain": [
       "{2, 9, 'pooja'}"
      ]
     },
     "execution_count": 6,
     "metadata": {},
     "output_type": "execute_result"
    }
   ],
   "source": [
    "a.difference(b)"
   ]
  },
  {
   "cell_type": "code",
   "execution_count": 7,
   "id": "0a59368a",
   "metadata": {},
   "outputs": [
    {
     "data": {
      "text/plain": [
       "{'apple', 'banana', 'mango'}"
      ]
     },
     "execution_count": 7,
     "metadata": {},
     "output_type": "execute_result"
    }
   ],
   "source": [
    "b.difference(a)"
   ]
  },
  {
   "cell_type": "code",
   "execution_count": 8,
   "id": "4260212c",
   "metadata": {},
   "outputs": [
    {
     "data": {
      "text/plain": [
       "{2, 9, 'apple', 'banana', 'mango', 'pooja', 'saniya'}"
      ]
     },
     "execution_count": 8,
     "metadata": {},
     "output_type": "execute_result"
    }
   ],
   "source": [
    "#union :\n",
    "a.union(b)"
   ]
  },
  {
   "cell_type": "code",
   "execution_count": 9,
   "id": "268f73ea",
   "metadata": {},
   "outputs": [
    {
     "data": {
      "text/plain": [
       "{'saniya'}"
      ]
     },
     "execution_count": 9,
     "metadata": {},
     "output_type": "execute_result"
    }
   ],
   "source": [
    "#intersection:\n",
    "a.intersection(b)"
   ]
  },
  {
   "cell_type": "code",
   "execution_count": 10,
   "id": "44002738",
   "metadata": {},
   "outputs": [
    {
     "data": {
      "text/plain": [
       "False"
      ]
     },
     "execution_count": 10,
     "metadata": {},
     "output_type": "execute_result"
    }
   ],
   "source": [
    "#isdisjoint: display output in true or false   it is used for diff\n",
    "a.isdisjoint(b)"
   ]
  },
  {
   "cell_type": "code",
   "execution_count": 12,
   "id": "1f8c2ffe",
   "metadata": {},
   "outputs": [
    {
     "data": {
      "text/plain": [
       "True"
      ]
     },
     "execution_count": 12,
     "metadata": {},
     "output_type": "execute_result"
    }
   ],
   "source": [
    "a={1,2,3,4}\n",
    "b={34,67,89}\n",
    "a.isdisjoint(b)  #o/p is true  becz there are no comman elements"
   ]
  },
  {
   "cell_type": "code",
   "execution_count": 14,
   "id": "deafcecb",
   "metadata": {},
   "outputs": [
    {
     "data": {
      "text/plain": [
       "True"
      ]
     },
     "execution_count": 14,
     "metadata": {},
     "output_type": "execute_result"
    }
   ],
   "source": [
    "#issubset\n",
    "a={\"mango\",\"pappaya\",\"apple\"}\n",
    "b={\"mango\",\"pappaya\"}\n",
    "b.issubset(a)"
   ]
  },
  {
   "cell_type": "code",
   "execution_count": 15,
   "id": "bef29881",
   "metadata": {},
   "outputs": [
    {
     "data": {
      "text/plain": [
       "False"
      ]
     },
     "execution_count": 15,
     "metadata": {},
     "output_type": "execute_result"
    }
   ],
   "source": [
    "a.issubset(b)"
   ]
  },
  {
   "cell_type": "code",
   "execution_count": 16,
   "id": "8497eb9c",
   "metadata": {},
   "outputs": [],
   "source": [
    "a.clear()"
   ]
  },
  {
   "cell_type": "code",
   "execution_count": 17,
   "id": "271b0228",
   "metadata": {},
   "outputs": [
    {
     "data": {
      "text/plain": [
       "set()"
      ]
     },
     "execution_count": 17,
     "metadata": {},
     "output_type": "execute_result"
    }
   ],
   "source": [
    "a"
   ]
  },
  {
   "cell_type": "code",
   "execution_count": null,
   "id": "6967e7b2",
   "metadata": {},
   "outputs": [],
   "source": []
  }
 ],
 "metadata": {
  "kernelspec": {
   "display_name": "Python 3 (ipykernel)",
   "language": "python",
   "name": "python3"
  },
  "language_info": {
   "codemirror_mode": {
    "name": "ipython",
    "version": 3
   },
   "file_extension": ".py",
   "mimetype": "text/x-python",
   "name": "python",
   "nbconvert_exporter": "python",
   "pygments_lexer": "ipython3",
   "version": "3.11.5"
  }
 },
 "nbformat": 4,
 "nbformat_minor": 5
}
