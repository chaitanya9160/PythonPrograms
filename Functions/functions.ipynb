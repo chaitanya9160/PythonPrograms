{
 "cells": [
  {
   "cell_type": "code",
   "execution_count": 2,
   "id": "f971f06a",
   "metadata": {},
   "outputs": [
    {
     "name": "stdout",
     "output_type": "stream",
     "text": [
      "[5, 81, 13]\n"
     ]
    }
   ],
   "source": [
    "#filter function\n",
    "#program of prime no.\n",
    "def prime(n):\n",
    "    \n",
    "    for i in range(2,n//2+1):\n",
    "        if(n%i==0):\n",
    "            return False\n",
    "        return True\n",
    "\n",
    "l=[12,3,4,6,5,80,81,13]\n",
    "\n",
    "value=filter(prime,l)\n",
    "#value=map(prime,l)\n",
    "\n",
    "\n",
    "print(list(value))"
   ]
  },
  {
   "cell_type": "code",
   "execution_count": 4,
   "id": "693a7e7b",
   "metadata": {},
   "outputs": [
    {
     "name": "stdout",
     "output_type": "stream",
     "text": [
      "(5, 81, 13)\n"
     ]
    }
   ],
   "source": [
    "\n",
    "def p(num):\n",
    "    \n",
    "    if num>1:\n",
    "        for i in range(2,(num//2)+1):\n",
    "            if(num%i)==0:\n",
    "                return False\n",
    "            return True\n",
    "\n",
    "l=[12,3,4,6,5,80,81,13]\n",
    "\n",
    "\n",
    "result=filter(p,l)\n",
    "print(tuple(result))"
   ]
  },
  {
   "cell_type": "markdown",
   "id": "08d4a35f",
   "metadata": {},
   "source": [
    "# Lambda/Anonymous fun()\n",
    "-single line input,shortest"
   ]
  },
  {
   "cell_type": "code",
   "execution_count": 7,
   "id": "f6db2f10",
   "metadata": {},
   "outputs": [],
   "source": [
    "max=lambda a,b:a if a>b else b"
   ]
  },
  {
   "cell_type": "code",
   "execution_count": 8,
   "id": "70d2ee60",
   "metadata": {},
   "outputs": [
    {
     "data": {
      "text/plain": [
       "4"
      ]
     },
     "execution_count": 8,
     "metadata": {},
     "output_type": "execute_result"
    }
   ],
   "source": [
    "max(0,4)"
   ]
  },
  {
   "cell_type": "markdown",
   "id": "e3fc2bcc",
   "metadata": {},
   "source": []
  }
 ],
 "metadata": {
  "kernelspec": {
   "display_name": "Python 3 (ipykernel)",
   "language": "python",
   "name": "python3"
  },
  "language_info": {
   "codemirror_mode": {
    "name": "ipython",
    "version": 3
   },
   "file_extension": ".py",
   "mimetype": "text/x-python",
   "name": "python",
   "nbconvert_exporter": "python",
   "pygments_lexer": "ipython3",
   "version": "3.11.5"
  }
 },
 "nbformat": 4,
 "nbformat_minor": 5
}
