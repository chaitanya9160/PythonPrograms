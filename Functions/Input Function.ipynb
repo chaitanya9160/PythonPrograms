{
 "cells": [
  {
   "cell_type": "code",
   "execution_count": 1,
   "id": "9a443ba7",
   "metadata": {},
   "outputs": [
    {
     "name": "stdout",
     "output_type": "stream",
     "text": [
      "Enter Your Name:Chaitanya\n"
     ]
    }
   ],
   "source": [
    "name=input(\"Enter Your Name:\")"
   ]
  },
  {
   "cell_type": "code",
   "execution_count": 2,
   "id": "10d65af6",
   "metadata": {},
   "outputs": [
    {
     "data": {
      "text/plain": [
       "str"
      ]
     },
     "execution_count": 2,
     "metadata": {},
     "output_type": "execute_result"
    }
   ],
   "source": [
    "type(name)"
   ]
  },
  {
   "cell_type": "code",
   "execution_count": 3,
   "id": "605f2f02",
   "metadata": {},
   "outputs": [
    {
     "name": "stdout",
     "output_type": "stream",
     "text": [
      "Enter Your Age:20\n"
     ]
    }
   ],
   "source": [
    "age=input(\"Enter Your Age:\") "
   ]
  },
  {
   "cell_type": "code",
   "execution_count": 4,
   "id": "b0513b08",
   "metadata": {},
   "outputs": [
    {
     "data": {
      "text/plain": [
       "str"
      ]
     },
     "execution_count": 4,
     "metadata": {},
     "output_type": "execute_result"
    }
   ],
   "source": [
    "type(age)  # when we use input function then it give type of that value is by default string ...and we want to change type then we use the type casting"
   ]
  },
  {
   "cell_type": "markdown",
   "id": "dd669bee",
   "metadata": {},
   "source": [
    "Type Conversion\n"
   ]
  },
  {
   "cell_type": "code",
   "execution_count": 13,
   "id": "3a7df86b",
   "metadata": {},
   "outputs": [
    {
     "name": "stdout",
     "output_type": "stream",
     "text": [
      "Enter Your Age:20\n"
     ]
    }
   ],
   "source": [
    "age=int(input(\"Enter Your Age:\"))"
   ]
  },
  {
   "cell_type": "code",
   "execution_count": 14,
   "id": "d31ade98",
   "metadata": {},
   "outputs": [
    {
     "data": {
      "text/plain": [
       "int"
      ]
     },
     "execution_count": 14,
     "metadata": {},
     "output_type": "execute_result"
    }
   ],
   "source": [
    "type(age)"
   ]
  },
  {
   "cell_type": "code",
   "execution_count": 15,
   "id": "f2c7f8b5",
   "metadata": {},
   "outputs": [
    {
     "name": "stdout",
     "output_type": "stream",
     "text": [
      "Enter Your Age:20\n"
     ]
    }
   ],
   "source": [
    "age=float(input(\"Enter Your Age:\"))"
   ]
  },
  {
   "cell_type": "code",
   "execution_count": 16,
   "id": "90b69d74",
   "metadata": {},
   "outputs": [
    {
     "data": {
      "text/plain": [
       "float"
      ]
     },
     "execution_count": 16,
     "metadata": {},
     "output_type": "execute_result"
    }
   ],
   "source": [
    "type(age)"
   ]
  },
  {
   "cell_type": "markdown",
   "id": "a3d6baba",
   "metadata": {},
   "source": [
    "Type Casting:"
   ]
  },
  {
   "cell_type": "code",
   "execution_count": 17,
   "id": "e6ed1a47",
   "metadata": {},
   "outputs": [
    {
     "data": {
      "text/plain": [
       "tuple"
      ]
     },
     "execution_count": 17,
     "metadata": {},
     "output_type": "execute_result"
    }
   ],
   "source": [
    "x=[78,90]\n",
    "x1=tuple(x)\n",
    "type(x1)"
   ]
  },
  {
   "cell_type": "code",
   "execution_count": 18,
   "id": "8bba3d99",
   "metadata": {},
   "outputs": [
    {
     "data": {
      "text/plain": [
       "list"
      ]
     },
     "execution_count": 18,
     "metadata": {},
     "output_type": "execute_result"
    }
   ],
   "source": [
    "y={4,5,6,7,8}\n",
    "a=list(y)\n",
    "type(a)"
   ]
  },
  {
   "cell_type": "code",
   "execution_count": 20,
   "id": "a2cb4a5d",
   "metadata": {},
   "outputs": [
    {
     "name": "stdout",
     "output_type": "stream",
     "text": [
      "3.0 (3+0j) 3 3\n"
     ]
    },
    {
     "data": {
      "text/plain": [
       "str"
      ]
     },
     "execution_count": 20,
     "metadata": {},
     "output_type": "execute_result"
    }
   ],
   "source": [
    "a=3\n",
    "\n",
    "x1=float(a)\n",
    "\n",
    "x2=complex(a)\n",
    "\n",
    "x3=int(a)\n",
    "\n",
    "x4=str(a)\n",
    "\n",
    "print(x1,x2,x3,x4)\n",
    "\n",
    "type(x4)"
   ]
  },
  {
   "cell_type": "code",
   "execution_count": null,
   "id": "03549881",
   "metadata": {},
   "outputs": [],
   "source": []
  }
 ],
 "metadata": {
  "kernelspec": {
   "display_name": "Python 3 (ipykernel)",
   "language": "python",
   "name": "python3"
  },
  "language_info": {
   "codemirror_mode": {
    "name": "ipython",
    "version": 3
   },
   "file_extension": ".py",
   "mimetype": "text/x-python",
   "name": "python",
   "nbconvert_exporter": "python",
   "pygments_lexer": "ipython3",
   "version": "3.11.5"
  }
 },
 "nbformat": 4,
 "nbformat_minor": 5
}
