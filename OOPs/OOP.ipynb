{
 "cells": [
  {
   "cell_type": "markdown",
   "id": "6c08b9ba",
   "metadata": {},
   "source": [
    "Class:\n",
    "Object:\n",
    "Abstraction:\n",
    "Plymorphism:\n",
    "Inheritance:\n",
    "Encapsulation:\n"
   ]
  },
  {
   "cell_type": "markdown",
   "id": "defe4e8b",
   "metadata": {},
   "source": [
    "OOP is a way of designing a program using objects that have properties and behaviors to a problem domain."
   ]
  },
  {
   "cell_type": "markdown",
   "id": "4c96dc8f",
   "metadata": {},
   "source": [
    "to use OOP in python, you need to define class "
   ]
  },
  {
   "cell_type": "markdown",
   "id": "e5c140a9",
   "metadata": {},
   "source": []
  },
  {
   "cell_type": "markdown",
   "id": "e59d3df6",
   "metadata": {},
   "source": []
  },
  {
   "cell_type": "code",
   "execution_count": 1,
   "id": "6b7f9dd0",
   "metadata": {},
   "outputs": [],
   "source": [
    "def add(a,b):    #possitional arrgument\n",
    "    c=a+b\n",
    "    print(c)"
   ]
  },
  {
   "cell_type": "code",
   "execution_count": 2,
   "id": "97d856d9",
   "metadata": {},
   "outputs": [
    {
     "name": "stdout",
     "output_type": "stream",
     "text": [
      "12\n"
     ]
    }
   ],
   "source": [
    "add(1,11)"
   ]
  },
  {
   "cell_type": "code",
   "execution_count": 3,
   "id": "378f5830",
   "metadata": {},
   "outputs": [],
   "source": [
    "#Creating a class\n",
    "class abc:\n",
    "    count=33\n",
    "    present=7"
   ]
  },
  {
   "cell_type": "code",
   "execution_count": 6,
   "id": "7a6ce3ef",
   "metadata": {},
   "outputs": [
    {
     "data": {
      "text/plain": [
       "7"
      ]
     },
     "execution_count": 6,
     "metadata": {},
     "output_type": "execute_result"
    }
   ],
   "source": [
    "abc.present"
   ]
  },
  {
   "cell_type": "code",
   "execution_count": 5,
   "id": "d07fb2c1",
   "metadata": {},
   "outputs": [
    {
     "data": {
      "text/plain": [
       "33"
      ]
     },
     "execution_count": 5,
     "metadata": {},
     "output_type": "execute_result"
    }
   ],
   "source": [
    "abc. count"
   ]
  },
  {
   "cell_type": "code",
   "execution_count": 11,
   "id": "fe320905",
   "metadata": {},
   "outputs": [],
   "source": [
    "class topper:\n",
    "    name=\"a\"\n",
    "    age=20"
   ]
  },
  {
   "cell_type": "code",
   "execution_count": 17,
   "id": "2706b36c",
   "metadata": {},
   "outputs": [
    {
     "name": "stdout",
     "output_type": "stream",
     "text": [
      "a\n"
     ]
    },
    {
     "data": {
      "text/plain": [
       "20"
      ]
     },
     "execution_count": 17,
     "metadata": {},
     "output_type": "execute_result"
    }
   ],
   "source": [
    "print(topper.name)\n",
    "topper.age"
   ]
  },
  {
   "cell_type": "code",
   "execution_count": 26,
   "id": "b5dabb1b",
   "metadata": {},
   "outputs": [],
   "source": [
    "class topper:\n",
    "    name=\"a\"\n",
    "    age=20\n",
    "obj=topper\n",
    "o1=topper"
   ]
  },
  {
   "cell_type": "code",
   "execution_count": 23,
   "id": "1080ba04",
   "metadata": {},
   "outputs": [
    {
     "data": {
      "text/plain": [
       "'a'"
      ]
     },
     "execution_count": 23,
     "metadata": {},
     "output_type": "execute_result"
    }
   ],
   "source": [
    "obj.name"
   ]
  },
  {
   "cell_type": "code",
   "execution_count": 27,
   "id": "64135c5e",
   "metadata": {},
   "outputs": [
    {
     "data": {
      "text/plain": [
       "20"
      ]
     },
     "execution_count": 27,
     "metadata": {},
     "output_type": "execute_result"
    }
   ],
   "source": [
    "o1.age"
   ]
  },
  {
   "cell_type": "code",
   "execution_count": null,
   "id": "1cff286a",
   "metadata": {},
   "outputs": [],
   "source": [
    "class ty:\n",
    "    stud=28\n",
    "    time=\"6pm\"\n",
    "     \n",
    "    def a(self,a,b):\n",
    "        "
   ]
  }
 ],
 "metadata": {
  "kernelspec": {
   "display_name": "Python 3 (ipykernel)",
   "language": "python",
   "name": "python3"
  },
  "language_info": {
   "codemirror_mode": {
    "name": "ipython",
    "version": 3
   },
   "file_extension": ".py",
   "mimetype": "text/x-python",
   "name": "python",
   "nbconvert_exporter": "python",
   "pygments_lexer": "ipython3",
   "version": "3.11.5"
  }
 },
 "nbformat": 4,
 "nbformat_minor": 5
}
