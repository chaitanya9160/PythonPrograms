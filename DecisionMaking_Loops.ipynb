{
 "cells": [
  {
   "cell_type": "markdown",
   "id": "e931d54f",
   "metadata": {},
   "source": [
    "* A statement that control flow of the program.\n",
    "* Decision or selection control statments\n",
    "\n",
    "->if\n",
    "->elif\n",
    "->else\n",
    "\n",
    "*Loop or Itretion Control Statments\n",
    "->for:\n",
    "->while:"
   ]
  },
  {
   "cell_type": "markdown",
   "id": "52ca50c6",
   "metadata": {},
   "source": [
    "# 1) Decision or Selection Control Statements\n",
    "* if statements\n",
    ": if condition is true then only it is run otherwise conditions are not run.\n",
    " if statement:\n",
    "         instruction 1\n",
    "         instruction 2\n",
    "         instruction 3\n",
    "           \n"
   ]
  },
  {
   "cell_type": "code",
   "execution_count": 12,
   "id": "ba7a4107",
   "metadata": {},
   "outputs": [
    {
     "name": "stdout",
     "output_type": "stream",
     "text": [
      "Enter your marks:55\n"
     ]
    }
   ],
   "source": [
    "marks=int(input(\"Enter your marks:\"))"
   ]
  },
  {
   "cell_type": "code",
   "execution_count": 6,
   "id": "dad52aa4",
   "metadata": {},
   "outputs": [
    {
     "name": "stdout",
     "output_type": "stream",
     "text": [
      "eligible for exam\n"
     ]
    }
   ],
   "source": [
    "# Two conditions\n",
    "if(marks>=35):\n",
    "    print(\"eligible for exam\")\n",
    "else:\n",
    "    print(\"not eligible for exam\")\n",
    "    \n"
   ]
  },
  {
   "cell_type": "code",
   "execution_count": 7,
   "id": "08171eb8",
   "metadata": {},
   "outputs": [
    {
     "name": "stdout",
     "output_type": "stream",
     "text": [
      "eligible for exam\n"
     ]
    }
   ],
   "source": [
    "\n",
    "if(marks<35):\n",
    "    print(\"not eligible for exam\")\n",
    "elif(marks==50):\n",
    "    print(\"half of the total exam\")\n",
    "else:\n",
    "    print(\"eligible for exam\")    "
   ]
  },
  {
   "cell_type": "code",
   "execution_count": 13,
   "id": "7473515a",
   "metadata": {},
   "outputs": [
    {
     "name": "stdout",
     "output_type": "stream",
     "text": [
      "eligible for exam\n"
     ]
    }
   ],
   "source": [
    "if(marks<35):\n",
    "    print(\"not eligible for exam\")\n",
    "elif(marks==50):\n",
    "    print(\"half of the total exam\")\n",
    "elif(marks>51 and marks>=75):\n",
    "    print(\"first class with dist\")\n",
    "else:\n",
    "    print(\"eligible for exam\") "
   ]
  },
  {
   "cell_type": "code",
   "execution_count": 16,
   "id": "e26082f9",
   "metadata": {},
   "outputs": [
    {
     "name": "stdout",
     "output_type": "stream",
     "text": [
      "Enter your marks:90\n",
      "first class with dist\n"
     ]
    }
   ],
   "source": [
    "#nested if-else\n",
    "\n",
    "mark=int(input(\"Enter your marks:\"))\n",
    "\n",
    "if(35<=mark<60):\n",
    "    print(\"eligible for exam\")\n",
    "    if(mark==50):\n",
    "        print(\"half of the total marks\")\n",
    "    else:\n",
    "        print(\"actual marks\",mark)\n",
    "elif(60<=mark<75):\n",
    "    print(\"first class\")\n",
    "    if(marks>65):\n",
    "        print(\"first class with good score\")\n",
    "    if(mark<64):\n",
    "        print(\"average marks\")\n",
    "elif(mark>=75):\n",
    "    print(\"first class with dist\")\n",
    "    if(mark==75):\n",
    "        print(\"only 6dist\")\n",
    "    if(mark==75):\n",
    "        print(\"excellent score\")        \n",
    "else:\n",
    "    print(\"not eligible for exam\")\n",
    "        \n"
   ]
  },
  {
   "cell_type": "code",
   "execution_count": 2,
   "id": "e8b72c11",
   "metadata": {},
   "outputs": [
    {
     "name": "stdout",
     "output_type": "stream",
     "text": [
      "Enter your marks:70\n",
      "Enter your skillno\n",
      "state level national level international level\n",
      "level:no\n",
      "no skill 70\n"
     ]
    }
   ],
   "source": [
    "#Case Study\n",
    "\n",
    "mark=int(input(\"Enter your marks:\"))\n",
    "skillset=input(\"Enter your skill\")\n",
    "\n",
    "print(\"state level\",\"national level\",\"international level\")\n",
    "level=input(\"level:\")\n",
    "\n",
    "if skillset==\"classical_dance\":\n",
    "    if level in(\"state level\"):\n",
    "        print(\"marks=\",mark+3)\n",
    "    if level in(\"National level\"):\n",
    "        print(\"marks=\",mark+4)\n",
    "    if level in(\"International level\"):\n",
    "        print(\"marks=\",mark+5)\n",
    "\n",
    "elif skillset==\"Sports\":\n",
    "    if level in(\"state level\"):\n",
    "        print(\"marks=\",mark+3)\n",
    "    if level in(\"National level\"):\n",
    "        print(\"marks=\",mark+4)\n",
    "    if level in(\"International level\"):\n",
    "        print(\"marks=\",mark+5)\n",
    "\n",
    "elif skillset==\"Drawing\":\n",
    "    if level in(\"state level\"):\n",
    "        print(\"marks=\",mark+3)\n",
    "    if level in(\"National level\"):\n",
    "        print(\"marks=\",mark+4)\n",
    "    if level in(\"International level\"):\n",
    "        print(\"marks=\",mark+5)\n",
    "else:\n",
    "    print(\"no skill\",mark)\n",
    "    \n",
    "        \n",
    "        "
   ]
  },
  {
   "cell_type": "markdown",
   "id": "56b7024b",
   "metadata": {},
   "source": [
    "# Loops in Python:\n",
    "\n",
    "1)for loop:A for loop is used for iteration over a sequence(taht is either a list ,a tuple,a dictionary,a set ,or a String).\n",
    "this is less like the for keyword in other programming languages ,and workds more like and iterator method .\n",
    "With the for loop we can execute a set of statements,once for each item in a list ,tuple,set etc.\n",
    "\n",
    "    the range ()function\n",
    " to loop throw a set oof code specified number of times ,we can use the range()function,\n",
    " the range()function returns a sequence of a number,starting from 0  by default ,and incerement by one (by default),and ends at   a specified number.\n",
    " range (6) is not the value of 0 to 6 but the values 0 to 5"
   ]
  },
  {
   "cell_type": "markdown",
   "id": "8cc3e70c",
   "metadata": {},
   "source": [
    "-some times we need to run a block of code a number of times\n",
    "-definite loop(for loop) \n",
    "-a loop that has set number of times to run definite loop \n",
    "-in for loop we can not define initilization and incrementation it gives the results by using the range function\n",
    "-in definite loop(while loop)\n",
    "-a loop that has indefinite number of times to run indefinite loop \n",
    "-the loop gives the the output while the given condition is false \n",
    "-here we can specificly define initilization and incrementation taht where to start the loop and how to incerment it \n",
    "-if we can't define incrementation then the loop can't understand how to increment its so it will gose in progreesing."
   ]
  },
  {
   "cell_type": "markdown",
   "id": "7a4c851b",
   "metadata": {},
   "source": [
    "#for variable in range(start,end,increment/decrement)\n",
    "Ex.\n",
    "#for i in range(1,20,5):\n",
    "     #print(i)"
   ]
  },
  {
   "cell_type": "code",
   "execution_count": 5,
   "id": "944aa2b4",
   "metadata": {},
   "outputs": [
    {
     "name": "stdout",
     "output_type": "stream",
     "text": [
      "0\n",
      "1\n",
      "2\n",
      "3\n",
      "4\n"
     ]
    }
   ],
   "source": [
    "for i in range(5):\n",
    "    print(i)"
   ]
  },
  {
   "cell_type": "code",
   "execution_count": 9,
   "id": "a406fae7",
   "metadata": {},
   "outputs": [
    {
     "name": "stdout",
     "output_type": "stream",
     "text": [
      "1\n",
      "3\n",
      "5\n",
      "7\n",
      "9\n"
     ]
    }
   ],
   "source": [
    "for i in range (1,10,2):  #odd no.\n",
    "    print(i)"
   ]
  },
  {
   "cell_type": "code",
   "execution_count": 12,
   "id": "2c6e3ec9",
   "metadata": {},
   "outputs": [
    {
     "name": "stdout",
     "output_type": "stream",
     "text": [
      "5\n",
      "6\n",
      "7\n",
      "8\n",
      "9\n"
     ]
    }
   ],
   "source": [
    "for i in range (5,10):\n",
    "    print(i)"
   ]
  },
  {
   "cell_type": "code",
   "execution_count": 16,
   "id": "c9a655e4",
   "metadata": {},
   "outputs": [
    {
     "name": "stdout",
     "output_type": "stream",
     "text": [
      "Enter name:pooja\n",
      "pooja\n",
      "Enter name:rutuja\n",
      "rutuja\n"
     ]
    }
   ],
   "source": [
    "for i in range (2):\n",
    "    i=input(\"Enter name:\")\n",
    "    print(i)"
   ]
  },
  {
   "cell_type": "code",
   "execution_count": 20,
   "id": "957e55e1",
   "metadata": {},
   "outputs": [
    {
     "name": "stdout",
     "output_type": "stream",
     "text": [
      "2\n",
      "4\n",
      "6\n",
      "8\n",
      "10\n",
      "12\n",
      "14\n",
      "16\n",
      "18\n",
      "20\n"
     ]
    }
   ],
   "source": [
    "for a in range(1,11):   #table\n",
    "    print(a*2)\n",
    "    \n"
   ]
  },
  {
   "cell_type": "code",
   "execution_count": 21,
   "id": "47e41f32",
   "metadata": {},
   "outputs": [
    {
     "name": "stdout",
     "output_type": "stream",
     "text": [
      "Enter name:Chaitanya\n",
      "Enter name:shweta\n",
      "Enter name:saba\n",
      "Enter name:shreya\n",
      "Enter name:priyanka\n"
     ]
    }
   ],
   "source": [
    "for i in range (5):\n",
    "    i=input(\"Enter name:\")\n",
    "    "
   ]
  },
  {
   "cell_type": "code",
   "execution_count": 22,
   "id": "4c2182f7",
   "metadata": {},
   "outputs": [
    {
     "name": "stdout",
     "output_type": "stream",
     "text": [
      "enter ur name\n",
      "chaitanya\n",
      "shweta\n",
      "aditi\n",
      "shreya\n",
      "pooja\n"
     ]
    }
   ],
   "source": [
    "print(\"enter ur name\")\n",
    "for i in range (5):\n",
    "    i=input()"
   ]
  },
  {
   "cell_type": "code",
   "execution_count": 28,
   "id": "72358a5d",
   "metadata": {},
   "outputs": [
    {
     "name": "stdout",
     "output_type": "stream",
     "text": [
      "apple\n",
      "ball\n",
      "cat\n",
      "dog\n",
      "egg\n"
     ]
    }
   ],
   "source": [
    "a=[\"apple\",\"ball\",\"cat\",\"dog\",\"egg\"]\n",
    "for i in a:\n",
    "    print(i)"
   ]
  },
  {
   "cell_type": "code",
   "execution_count": 27,
   "id": "0dcb630f",
   "metadata": {},
   "outputs": [
    {
     "name": "stdout",
     "output_type": "stream",
     "text": [
      "1 2 3 4 5 "
     ]
    }
   ],
   "source": [
    "a=[1,2,3,4,5]\n",
    "for i in a:\n",
    "    print(i,end=\" \")   #end=\" \"...for horizantal"
   ]
  },
  {
   "cell_type": "markdown",
   "id": "58402de6",
   "metadata": {},
   "source": [
    "# Nested for loop\n"
   ]
  },
  {
   "cell_type": "code",
   "execution_count": 33,
   "id": "6b012a0e",
   "metadata": {},
   "outputs": [
    {
     "name": "stdout",
     "output_type": "stream",
     "text": [
      "1 a\n",
      "1 b\n",
      "1 c\n",
      "1 d\n",
      "1 e\n",
      "2 a\n",
      "2 b\n",
      "2 c\n",
      "2 d\n",
      "2 e\n",
      "3 a\n",
      "3 b\n",
      "3 c\n",
      "3 d\n",
      "3 e\n",
      "4 a\n",
      "4 b\n",
      "4 c\n",
      "4 d\n",
      "4 e\n",
      "5 a\n",
      "5 b\n",
      "5 c\n",
      "5 d\n",
      "5 e\n"
     ]
    }
   ],
   "source": [
    "a=[1,2,3,4,5]\n",
    "b=[\"a\",\"b\",\"c\",\"d\",\"e\"]\n",
    "for i in a:      #outer loop- first one value lega or pura inner loop lega pura inner loop hone ke bad outter loop ka second value lega  \n",
    "    for j in b:  #inner loop\n",
    "        print(i,j)"
   ]
  },
  {
   "cell_type": "markdown",
   "id": "c4932639",
   "metadata": {},
   "source": [
    "# Star pattern"
   ]
  },
  {
   "cell_type": "code",
   "execution_count": 18,
   "id": "b381a2c9",
   "metadata": {},
   "outputs": [
    {
     "name": "stdout",
     "output_type": "stream",
     "text": [
      "\n",
      "*\n",
      "**\n",
      "***\n",
      "****\n",
      "*****\n"
     ]
    }
   ],
   "source": [
    "for i in range (6):\n",
    "    print(\"*\"*i)\n",
    " "
   ]
  },
  {
   "cell_type": "code",
   "execution_count": 24,
   "id": "42ad9135",
   "metadata": {},
   "outputs": [
    {
     "name": "stdout",
     "output_type": "stream",
     "text": [
      "* \n",
      "\n",
      "* * \n",
      "\n",
      "* * * \n",
      "\n",
      "* * * * \n",
      "\n",
      "* * * * * \n",
      "\n"
     ]
    }
   ],
   "source": [
    "for i in range (1,6):\n",
    "    for j in range(i):   #  for j in range(0,i):     this also correct,both are same\n",
    "        print(\"*\",end=\" \")\n",
    "    print(\"\\n\")"
   ]
  },
  {
   "cell_type": "code",
   "execution_count": 37,
   "id": "9b117132",
   "metadata": {},
   "outputs": [
    {
     "name": "stdout",
     "output_type": "stream",
     "text": [
      "* * * * * \n",
      "\n",
      "* * * * \n",
      "\n",
      "* * * \n",
      "\n",
      "* * \n",
      "\n",
      "* \n",
      "\n"
     ]
    }
   ],
   "source": [
    "for i in range (6,1,-1):\n",
    "    for j in range(i,1,-1):   \n",
    "        print(\"*\",end=\" \")\n",
    "    print(\"\\n\")"
   ]
  },
  {
   "cell_type": "markdown",
   "id": "0453e900",
   "metadata": {},
   "source": [
    "# Pyrimidal star pattern"
   ]
  },
  {
   "cell_type": "code",
   "execution_count": 56,
   "id": "43b20e79",
   "metadata": {},
   "outputs": [
    {
     "name": "stdout",
     "output_type": "stream",
     "text": [
      "          *  \n",
      "        * * *  \n",
      "      * * * * *  \n",
      "    * * * * * * *  \n",
      "  * * * * * * * * *  \n"
     ]
    }
   ],
   "source": [
    "for i in range(1,6):          #this is for outer loop for rows\n",
    "    for j in range(6-i):      #this is used for space\n",
    "        print(\" \",end=\" \")    #print the space\n",
    "    for k in range(2*i-1): #this is nested inner loop for print * in assending order \"2*i-1\"  by the condition \n",
    "        print(\"*\",end=\" \")     #print the *\n",
    "    print(\" \")                #for next line\n",
    "        "
   ]
  },
  {
   "cell_type": "code",
   "execution_count": 57,
   "id": "ec1fcdc4",
   "metadata": {},
   "outputs": [
    {
     "name": "stdout",
     "output_type": "stream",
     "text": [
      "  * * * * * * * * *  \n",
      "    * * * * * * *  \n",
      "      * * * * *  \n",
      "        * * *  \n",
      "          *  \n"
     ]
    }
   ],
   "source": [
    "for i in range(5,0,-1):         \n",
    "    for j in range(6-i):  \n",
    "        print(\" \",end=\" \")    \n",
    "    for k in range(2*i-1): \n",
    "        print(\"*\",end=\" \")   \n",
    "    print(\" \")  "
   ]
  },
  {
   "cell_type": "code",
   "execution_count": 58,
   "id": "72f89969",
   "metadata": {},
   "outputs": [
    {
     "name": "stdout",
     "output_type": "stream",
     "text": [
      "2 4 6 8 10 12 14 16 18 20 \n",
      "\n",
      "3 6 9 12 15 18 21 24 27 30 \n",
      "\n",
      "4 8 12 16 20 24 28 32 36 40 \n",
      "\n",
      "5 10 15 20 25 30 35 40 45 50 \n",
      "\n",
      "6 12 18 24 30 36 42 48 54 60 \n",
      "\n",
      "7 14 21 28 35 42 49 56 63 70 \n",
      "\n",
      "8 16 24 32 40 48 56 64 72 80 \n",
      "\n",
      "9 18 27 36 45 54 63 72 81 90 \n",
      "\n",
      "10 20 30 40 50 60 70 80 90 100 \n",
      "\n",
      "11 22 33 44 55 66 77 88 99 110 \n",
      "\n",
      "12 24 36 48 60 72 84 96 108 120 \n",
      "\n",
      "13 26 39 52 65 78 91 104 117 130 \n",
      "\n",
      "14 28 42 56 70 84 98 112 126 140 \n",
      "\n",
      "15 30 45 60 75 90 105 120 135 150 \n",
      "\n",
      "16 32 48 64 80 96 112 128 144 160 \n",
      "\n",
      "17 34 51 68 85 102 119 136 153 170 \n",
      "\n",
      "18 36 54 72 90 108 126 144 162 180 \n",
      "\n",
      "19 38 57 76 95 114 133 152 171 190 \n",
      "\n",
      "20 40 60 80 100 120 140 160 180 200 \n",
      "\n"
     ]
    }
   ],
   "source": [
    "for i in range (2,20+1):\n",
    "    for j in range(1,10+1):\n",
    "        print(i*j,end=\" \")\n",
    "    print(\"\\n\")"
   ]
  },
  {
   "cell_type": "markdown",
   "id": "c2c98ab3",
   "metadata": {},
   "source": [
    "#palindrom,lcf hcf,factorial,diff star pattern,fibonocis series,"
   ]
  },
  {
   "cell_type": "markdown",
   "id": "99ac32d0",
   "metadata": {},
   "source": [
    "# While Loop(Indefined loop)\n",
    "\n",
    "*A loop that has indefinite no. of times to run .indefinite loop\n",
    "*The loop gives the o/p while the given condition is false\n",
    "*here we can specifically define the initilization and increment that where to start the loop and how to increment it\n",
    "*if we can define the incrementation then the loop can't understand how to increment it so it will goes in prosessing."
   ]
  },
  {
   "cell_type": "markdown",
   "id": "628d2673",
   "metadata": {},
   "source": [
    "#while Syntax:\n",
    "\n",
    "\n",
    "x=0\n",
    "while(\"condition\"):\n",
    "    print(x)\n",
    "    x=x+1"
   ]
  },
  {
   "cell_type": "code",
   "execution_count": 8,
   "id": "f2617f49",
   "metadata": {},
   "outputs": [
    {
     "name": "stdout",
     "output_type": "stream",
     "text": [
      "0\n",
      "1\n",
      "2\n",
      "3\n",
      "4\n",
      "5\n",
      "6\n",
      "7\n",
      "8\n",
      "9\n"
     ]
    }
   ],
   "source": [
    "i=0             #initilization\n",
    "while(i<10):    #condition\n",
    "    i=i+1       #incrementation\n",
    "    print(i)\n",
    " "
   ]
  },
  {
   "cell_type": "code",
   "execution_count": 11,
   "id": "16111b9e",
   "metadata": {},
   "outputs": [
    {
     "name": "stdout",
     "output_type": "stream",
     "text": [
      "0\n",
      "1\n",
      "2\n",
      "3\n",
      "4\n",
      "5\n",
      "6\n",
      "7\n",
      "8\n",
      "9\n"
     ]
    }
   ],
   "source": [
    "i=0           \n",
    "while(i<=9):   \n",
    "    print(i)\n",
    "    i=i+1"
   ]
  },
  {
   "cell_type": "code",
   "execution_count": 12,
   "id": "c597d164",
   "metadata": {},
   "outputs": [
    {
     "name": "stdout",
     "output_type": "stream",
     "text": [
      "2\n",
      "4\n",
      "6\n",
      "8\n",
      "10\n",
      "12\n",
      "14\n",
      "16\n",
      "18\n",
      "20\n"
     ]
    }
   ],
   "source": [
    "i=0           \n",
    "while(i<=9):   \n",
    "    i=i+1\n",
    "    print(i*2)"
   ]
  },
  {
   "cell_type": "code",
   "execution_count": 13,
   "id": "5ad04883",
   "metadata": {},
   "outputs": [
    {
     "name": "stdout",
     "output_type": "stream",
     "text": [
      "0\n",
      "2\n",
      "4\n",
      "6\n",
      "8\n",
      "10\n",
      "12\n",
      "14\n",
      "16\n",
      "18\n"
     ]
    }
   ],
   "source": [
    "i=0           \n",
    "while(i<=9):   \n",
    "    print(i*2)\n",
    "    i=i+1"
   ]
  },
  {
   "cell_type": "markdown",
   "id": "540f9cd8",
   "metadata": {},
   "source": [
    "# Jumping statments:\n",
    " \n",
    "used on sequence data or range\n",
    "it is used for breack the specific condition\n"
   ]
  },
  {
   "cell_type": "code",
   "execution_count": 2,
   "id": "b02a1f78",
   "metadata": {},
   "outputs": [
    {
     "name": "stdout",
     "output_type": "stream",
     "text": [
      "pappya\n",
      "mango\n",
      "banana\n"
     ]
    }
   ],
   "source": [
    "# break\n",
    "fruits=[\"pappya\",\"mango\",\"banana\",\"apple\",\"chiku\"]\n",
    "for x in fruits:\n",
    "    print(x)\n",
    "    if x==\"banana\":\n",
    "        break"
   ]
  },
  {
   "cell_type": "code",
   "execution_count": 9,
   "id": "1438e88f",
   "metadata": {},
   "outputs": [
    {
     "name": "stdout",
     "output_type": "stream",
     "text": [
      "0\n",
      "1\n",
      "2\n",
      "3\n",
      "4\n",
      "5\n",
      "6\n"
     ]
    }
   ],
   "source": [
    "for i in range(10):\n",
    "    print(i)\n",
    "    if i==6:\n",
    "        break\n",
    "       "
   ]
  },
  {
   "cell_type": "code",
   "execution_count": 13,
   "id": "e6c2a118",
   "metadata": {},
   "outputs": [
    {
     "name": "stdout",
     "output_type": "stream",
     "text": [
      "0\n",
      "1\n",
      "2\n",
      "3\n",
      "4\n",
      "5\n",
      "7\n",
      "8\n",
      "9\n"
     ]
    }
   ],
   "source": [
    "#Continue\n",
    "for i in range(10):\n",
    "    if i==6:\n",
    "        continue\n",
    "    print(i)"
   ]
  },
  {
   "cell_type": "code",
   "execution_count": 14,
   "id": "5d6c25b7",
   "metadata": {},
   "outputs": [
    {
     "name": "stdout",
     "output_type": "stream",
     "text": [
      "pappya\n",
      "mango\n",
      "apple\n",
      "chiku\n"
     ]
    }
   ],
   "source": [
    "fruits=[\"pappya\",\"mango\",\"banana\",\"apple\",\"chiku\"]\n",
    "for x in fruits:\n",
    "    if x==\"banana\":\n",
    "        continue\n",
    "    print(x)"
   ]
  },
  {
   "cell_type": "code",
   "execution_count": 15,
   "id": "64cd76ff",
   "metadata": {},
   "outputs": [
    {
     "name": "stdout",
     "output_type": "stream",
     "text": [
      "pappya\n",
      "mango\n",
      "banana\n",
      "apple\n",
      "chiku\n"
     ]
    }
   ],
   "source": [
    "#Pass: does not affect on any kind of condition\n",
    "fruits=[\"pappya\",\"mango\",\"banana\",\"apple\",\"chiku\"]\n",
    "for x in fruits:\n",
    "    if x==\"banana\":\n",
    "        pass\n",
    "    print(x)"
   ]
  },
  {
   "cell_type": "code",
   "execution_count": 16,
   "id": "25825610",
   "metadata": {},
   "outputs": [
    {
     "name": "stdout",
     "output_type": "stream",
     "text": [
      "0\n",
      "1\n",
      "2\n",
      "3\n",
      "4\n",
      "5\n",
      "6\n",
      "7\n",
      "8\n",
      "9\n"
     ]
    }
   ],
   "source": [
    "for i in range(10):\n",
    "    if i==6:\n",
    "        pass\n",
    "    print(i)"
   ]
  },
  {
   "cell_type": "code",
   "execution_count": 17,
   "id": "3c5cf5ef",
   "metadata": {},
   "outputs": [
    {
     "name": "stdout",
     "output_type": "stream",
     "text": [
      "0\n",
      "1\n",
      "2\n",
      "3\n",
      "4\n",
      "5\n"
     ]
    }
   ],
   "source": [
    "i=0           \n",
    "while(i<=9):   \n",
    "    print(i)\n",
    "    if i==5:\n",
    "        break\n",
    "    i=i+1"
   ]
  },
  {
   "cell_type": "code",
   "execution_count": 1,
   "id": "940cdfba",
   "metadata": {},
   "outputs": [
    {
     "name": "stdout",
     "output_type": "stream",
     "text": [
      "0\n",
      "1\n",
      "2\n",
      "3\n",
      "4\n",
      "5\n",
      "6\n",
      "7\n",
      "8\n",
      "9\n"
     ]
    }
   ],
   "source": [
    "i=0           \n",
    "while(i<=9):   \n",
    "    print(i)\n",
    "    if i==5:\n",
    "        pass\n",
    "    i=i+1"
   ]
  },
  {
   "cell_type": "code",
   "execution_count": 4,
   "id": "b28cf485",
   "metadata": {},
   "outputs": [
    {
     "name": "stdout",
     "output_type": "stream",
     "text": [
      "1\n",
      "2\n",
      "3\n",
      "4\n",
      "6\n",
      "7\n",
      "8\n",
      "9\n",
      "10\n"
     ]
    }
   ],
   "source": [
    "i=0           \n",
    "while(i<=9):   \n",
    "    i=i+1\n",
    "    if i==5:\n",
    "        continue\n",
    "    print(i)\n",
    "    \n",
    "         "
   ]
  },
  {
   "cell_type": "code",
   "execution_count": null,
   "id": "f8825544",
   "metadata": {},
   "outputs": [],
   "source": []
  }
 ],
 "metadata": {
  "kernelspec": {
   "display_name": "Python 3 (ipykernel)",
   "language": "python",
   "name": "python3"
  },
  "language_info": {
   "codemirror_mode": {
    "name": "ipython",
    "version": 3
   },
   "file_extension": ".py",
   "mimetype": "text/x-python",
   "name": "python",
   "nbconvert_exporter": "python",
   "pygments_lexer": "ipython3",
   "version": "3.11.5"
  }
 },
 "nbformat": 4,
 "nbformat_minor": 5
}
