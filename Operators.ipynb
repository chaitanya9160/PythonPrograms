{
 "cells": [
  {
   "cell_type": "markdown",
   "id": "6c5d9e22",
   "metadata": {},
   "source": [
    "# Operators:\n",
    "   Operators is a SYMBOL that performs an operation between oprands.\n",
    "   OPERATORS:Are the special symbol. Eg:+,-,*,/,% etc.\n",
    "   OPRANDS: It is the value on which the operator is applied."
   ]
  },
  {
   "cell_type": "markdown",
   "id": "1ad7af8a",
   "metadata": {},
   "source": [
    "1) Arithmetic Operators:"
   ]
  },
  {
   "cell_type": "code",
   "execution_count": 1,
   "id": "4ed8333e",
   "metadata": {},
   "outputs": [
    {
     "name": "stdout",
     "output_type": "stream",
     "text": [
      "sum of two no 13\n",
      "sub of two no 3\n",
      "mult of two no 40\n",
      "div of two no 1.6\n",
      "flowerdiv of two no 1\n",
      "power of two no 32768\n",
      "moduls of two no 3\n"
     ]
    }
   ],
   "source": [
    "a=8\n",
    "b=5\n",
    "#addition\n",
    "print(\"sum of two no\",a+b)\n",
    "\n",
    "#substraction\n",
    "print(\"sub of two no\",a-b)\n",
    "\n",
    "#mult\n",
    "print(\"mult of two no\",a*b)\n",
    "\n",
    "#div\n",
    "print(\"div of two no\",a/b)\n",
    "\n",
    "#flowerdiv\n",
    "print(\"flowerdiv of two no\",a//b)\n",
    "\n",
    "#power\n",
    "print(\"power of two no\",a**b)\n",
    "\n",
    "#moduls\n",
    "print(\"moduls of two no\",a%b)"
   ]
  },
  {
   "cell_type": "markdown",
   "id": "a679d901",
   "metadata": {},
   "source": [
    "2. Comparision Operators (Relational Operators) "
   ]
  },
  {
   "cell_type": "code",
   "execution_count": 3,
   "id": "9bce0b0f",
   "metadata": {},
   "outputs": [
    {
     "data": {
      "text/plain": [
       "True"
      ]
     },
     "execution_count": 3,
     "metadata": {},
     "output_type": "execute_result"
    }
   ],
   "source": [
    "# =,== Equality operatior\n",
    "a=3\n",
    "b=3\n",
    "\n",
    "a==b"
   ]
  },
  {
   "cell_type": "code",
   "execution_count": 4,
   "id": "9deb9421",
   "metadata": {},
   "outputs": [
    {
     "data": {
      "text/plain": [
       "True"
      ]
     },
     "execution_count": 4,
     "metadata": {},
     "output_type": "execute_result"
    }
   ],
   "source": [
    "# < Less than\n",
    "a=30\n",
    "b=33\n",
    "\n",
    "a<b"
   ]
  },
  {
   "cell_type": "code",
   "execution_count": 5,
   "id": "489d5272",
   "metadata": {},
   "outputs": [
    {
     "data": {
      "text/plain": [
       "False"
      ]
     },
     "execution_count": 5,
     "metadata": {},
     "output_type": "execute_result"
    }
   ],
   "source": [
    "# > Grea@ter than\n",
    "a=40\n",
    "b=50\n",
    "\n",
    "a>b"
   ]
  },
  {
   "cell_type": "code",
   "execution_count": 7,
   "id": "396378bc",
   "metadata": {},
   "outputs": [
    {
     "name": "stdout",
     "output_type": "stream",
     "text": [
      "False\n",
      "True\n"
     ]
    }
   ],
   "source": [
    "# <= less than equal to\n",
    "a=20\n",
    "b=10\n",
    "\n",
    "print(a<=b)\n",
    "  \n",
    "c=10\n",
    "d=10\n",
    "\n",
    "print(c<=d)"
   ]
  },
  {
   "cell_type": "code",
   "execution_count": 13,
   "id": "8cde0c60",
   "metadata": {},
   "outputs": [
    {
     "name": "stdout",
     "output_type": "stream",
     "text": [
      "False\n",
      "True\n"
     ]
    }
   ],
   "source": [
    "# >= Greater than equal to\n",
    "a=20\n",
    "b=30\n",
    "\n",
    "print(a>=b)\n",
    "  \n",
    "c=10\n",
    "d=10\n",
    "\n",
    "print(c>=d)"
   ]
  },
  {
   "cell_type": "code",
   "execution_count": 12,
   "id": "79985901",
   "metadata": {},
   "outputs": [
    {
     "name": "stdout",
     "output_type": "stream",
     "text": [
      "True\n",
      "False\n"
     ]
    }
   ],
   "source": [
    "# !=  dose not equal to\n",
    "\n",
    "a=10\n",
    "b=20\n",
    "\n",
    "print(a!=b)\n",
    "\n",
    "c=30\n",
    "d=30\n",
    "\n",
    "print(c!=d)"
   ]
  },
  {
   "cell_type": "markdown",
   "id": "0868192a",
   "metadata": {},
   "source": [
    "3. Logical Operators"
   ]
  },
  {
   "cell_type": "code",
   "execution_count": 2,
   "id": "e566e235",
   "metadata": {},
   "outputs": [
    {
     "name": "stdout",
     "output_type": "stream",
     "text": [
      "True\n"
     ]
    }
   ],
   "source": [
    "# AND: Take more than conditions are return true if all conditions are true and return  false if any condition is false\n",
    "\n",
    "a=10\n",
    "b=20\n",
    "\n",
    "print(a<=b and a!=b)"
   ]
  },
  {
   "cell_type": "code",
   "execution_count": 3,
   "id": "9a1db7c4",
   "metadata": {},
   "outputs": [],
   "source": [
    "#OR:\n",
    "a=10\n",
    "b=20\n",
    "\n",
    "print(a<=b and a!=b)"
   ]
  },
  {
   "cell_type": "code",
   "execution_count": 4,
   "id": "be672ce5",
   "metadata": {},
   "outputs": [],
   "source": [
    "#NOT\n",
    "a=10\n",
    "b=20\n",
    "\n",
    "print(a<=b and a!=b)"
   ]
  },
  {
   "cell_type": "markdown",
   "id": "2aab7a98",
   "metadata": {},
   "source": [
    "4.Assignment Operator : Used for shorten than equation"
   ]
  },
  {
   "cell_type": "code",
   "execution_count": 5,
   "id": "ebca23fd",
   "metadata": {},
   "outputs": [
    {
     "data": {
      "text/plain": [
       "'Disha'"
      ]
     },
     "execution_count": 5,
     "metadata": {},
     "output_type": "execute_result"
    }
   ],
   "source": [
    "# \"\"=\"\" assign value\n",
    "a=\"Disha\"\n",
    "a"
   ]
  },
  {
   "cell_type": "code",
   "execution_count": 6,
   "id": "8daca1c2",
   "metadata": {},
   "outputs": [
    {
     "data": {
      "text/plain": [
       "16"
      ]
     },
     "execution_count": 6,
     "metadata": {},
     "output_type": "execute_result"
    }
   ],
   "source": [
    "# \"+=\" plus equal\n",
    "a=9\n",
    "b=7\n",
    "a+=b\n",
    "\n",
    "a"
   ]
  },
  {
   "cell_type": "code",
   "execution_count": 9,
   "id": "af2e33be",
   "metadata": {},
   "outputs": [
    {
     "data": {
      "text/plain": [
       "2"
      ]
     },
     "execution_count": 9,
     "metadata": {},
     "output_type": "execute_result"
    }
   ],
   "source": [
    "# \"-=\"\n",
    "a=9\n",
    "b=7\n",
    "a-=b\n",
    "\n",
    "a"
   ]
  },
  {
   "cell_type": "code",
   "execution_count": 11,
   "id": "82c46af7",
   "metadata": {},
   "outputs": [
    {
     "data": {
      "text/plain": [
       "63"
      ]
     },
     "execution_count": 11,
     "metadata": {},
     "output_type": "execute_result"
    }
   ],
   "source": [
    "# \"*=\"\n",
    "a=9\n",
    "b=7\n",
    "a*=b\n",
    "\n",
    "a"
   ]
  },
  {
   "cell_type": "code",
   "execution_count": 14,
   "id": "b436fb4a",
   "metadata": {},
   "outputs": [
    {
     "data": {
      "text/plain": [
       "2.0"
      ]
     },
     "execution_count": 14,
     "metadata": {},
     "output_type": "execute_result"
    }
   ],
   "source": [
    "# */=\"\n",
    "a=10\n",
    "b=5\n",
    "a/=b\n",
    "\n",
    "a"
   ]
  },
  {
   "cell_type": "code",
   "execution_count": 16,
   "id": "4818c54d",
   "metadata": {},
   "outputs": [
    {
     "data": {
      "text/plain": [
       "2"
      ]
     },
     "execution_count": 16,
     "metadata": {},
     "output_type": "execute_result"
    }
   ],
   "source": [
    "# *//=\"\n",
    "a=10\n",
    "b=5\n",
    "a//=b\n",
    "\n",
    "a"
   ]
  },
  {
   "cell_type": "code",
   "execution_count": 19,
   "id": "f0634923",
   "metadata": {},
   "outputs": [
    {
     "data": {
      "text/plain": [
       "1"
      ]
     },
     "execution_count": 19,
     "metadata": {},
     "output_type": "execute_result"
    }
   ],
   "source": [
    "# *%=\"\n",
    "a=6\n",
    "b=5\n",
    "a%=b\n",
    "\n",
    "a"
   ]
  },
  {
   "cell_type": "code",
   "execution_count": 20,
   "id": "b157047a",
   "metadata": {},
   "outputs": [
    {
     "data": {
      "text/plain": [
       "-3"
      ]
     },
     "execution_count": 20,
     "metadata": {},
     "output_type": "execute_result"
    }
   ],
   "source": [
    "# \"~\"\n",
    "~2"
   ]
  },
  {
   "cell_type": "markdown",
   "id": "84ffdb62",
   "metadata": {},
   "source": [
    "5.Bitwise Operator\n",
    "These operators treals the operands as if they were binary digit.They operate bit-by-bit\n",
    "AND(&),OR(|),NOT(~) in that add one,XOR(^)both are same then 0/1 otherwise 0/1,Right Shift(>>),Left Shift(<<)"
   ]
  },
  {
   "cell_type": "code",
   "execution_count": 26,
   "id": "6623c7da",
   "metadata": {},
   "outputs": [
    {
     "data": {
      "text/plain": [
       "0"
      ]
     },
     "execution_count": 26,
     "metadata": {},
     "output_type": "execute_result"
    }
   ],
   "source": [
    "a=1   #0001\n",
    "a=2   #0010\n",
    "a&b   #0000    both are 1 then 1 otherwise 0 means both are true then true otherwise false"
   ]
  },
  {
   "cell_type": "code",
   "execution_count": 27,
   "id": "35567bc7",
   "metadata": {},
   "outputs": [
    {
     "data": {
      "text/plain": [
       "3"
      ]
     },
     "execution_count": 27,
     "metadata": {},
     "output_type": "execute_result"
    }
   ],
   "source": [
    "a=2    #0010\n",
    "b=1    #0001\n",
    "a|b    #0011   when opposite condition then 1  means both are false then false otherwise true"
   ]
  },
  {
   "cell_type": "code",
   "execution_count": 30,
   "id": "3b31fb4e",
   "metadata": {},
   "outputs": [
    {
     "data": {
      "text/plain": [
       "3"
      ]
     },
     "execution_count": 30,
     "metadata": {},
     "output_type": "execute_result"
    }
   ],
   "source": [
    "a=1\n",
    "b=2\n",
    "a|b"
   ]
  },
  {
   "cell_type": "code",
   "execution_count": 31,
   "id": "07305adf",
   "metadata": {},
   "outputs": [
    {
     "data": {
      "text/plain": [
       "3"
      ]
     },
     "execution_count": 31,
     "metadata": {},
     "output_type": "execute_result"
    }
   ],
   "source": [
    "#XOR\n",
    "a=1  #0001\n",
    "b=2  #0010\n",
    "a^b  #0011        when opposite conditions then 1 "
   ]
  },
  {
   "cell_type": "code",
   "execution_count": 33,
   "id": "776d2843",
   "metadata": {},
   "outputs": [
    {
     "data": {
      "text/plain": [
       "-2"
      ]
     },
     "execution_count": 33,
     "metadata": {},
     "output_type": "execute_result"
    }
   ],
   "source": [
    "#NOT    in that given value add 1 always\n",
    "\n",
    "a=1   #0001\n",
    "~a   #    1 \n",
    "     # 0010"
   ]
  },
  {
   "cell_type": "code",
   "execution_count": 34,
   "id": "0e0a3263",
   "metadata": {},
   "outputs": [
    {
     "data": {
      "text/plain": [
       "1"
      ]
     },
     "execution_count": 34,
     "metadata": {},
     "output_type": "execute_result"
    }
   ],
   "source": [
    "a=3  #0011\n",
    "b=2  #0010\n",
    "a^b  #0001"
   ]
  },
  {
   "cell_type": "code",
   "execution_count": 35,
   "id": "758c90f4",
   "metadata": {},
   "outputs": [
    {
     "data": {
      "text/plain": [
       "-6"
      ]
     },
     "execution_count": 35,
     "metadata": {},
     "output_type": "execute_result"
    }
   ],
   "source": [
    "a=5   #0101\n",
    "~a    #   1\n",
    "      #0110   addition"
   ]
  },
  {
   "cell_type": "code",
   "execution_count": 41,
   "id": "bc49ec5f",
   "metadata": {},
   "outputs": [
    {
     "name": "stdout",
     "output_type": "stream",
     "text": [
      "4\n",
      "8\n"
     ]
    }
   ],
   "source": [
    "a=2\n",
    "print(a<<1)   # one time shift\n",
    "print(a<<2)   # two time shift"
   ]
  },
  {
   "cell_type": "code",
   "execution_count": 4,
   "id": "cee0908f",
   "metadata": {},
   "outputs": [
    {
     "name": "stdout",
     "output_type": "stream",
     "text": [
      "2\n",
      "1\n",
      "0\n"
     ]
    }
   ],
   "source": [
    "a=5\n",
    "print(a>>1)\n",
    "print(a>>2)\n",
    "print(a>>3)"
   ]
  },
  {
   "cell_type": "code",
   "execution_count": 9,
   "id": "9b9ba160",
   "metadata": {},
   "outputs": [
    {
     "name": "stdout",
     "output_type": "stream",
     "text": [
      "1\n"
     ]
    }
   ],
   "source": [
    "a=2\n",
    "print(a>>1)"
   ]
  },
  {
   "cell_type": "markdown",
   "id": "5d94fa23",
   "metadata": {},
   "source": [
    "6.Identity Operator \n",
    "is:It check that the id is same.\n",
    "is not:It check that the id is not same.\n",
    "Check the id of the objects and returns boolean values."
   ]
  },
  {
   "cell_type": "code",
   "execution_count": 14,
   "id": "da8f540f",
   "metadata": {},
   "outputs": [
    {
     "name": "stdout",
     "output_type": "stream",
     "text": [
      "True\n",
      "True\n",
      "False\n",
      "False\n",
      "True\n",
      "True\n",
      "True\n"
     ]
    }
   ],
   "source": [
    "a=10\n",
    "b=80\n",
    "c=a\n",
    "\n",
    "print(a is not b)\n",
    "\n",
    "print(a is c)\n",
    "\n",
    "print(a is b)\n",
    "\n",
    "print(a is not c)\n",
    "\n",
    "print(c is a)\n",
    "\n",
    "print(a is a)\n",
    "\n",
    "print(b is b)"
   ]
  },
  {
   "cell_type": "markdown",
   "id": "5975ffb3",
   "metadata": {},
   "source": [
    "7.Membership Operator\n",
    "in:\n",
    "not in:"
   ]
  },
  {
   "cell_type": "code",
   "execution_count": 22,
   "id": "a6053fa1",
   "metadata": {},
   "outputs": [],
   "source": [
    "list=[\"Apple\",\"Ball\",\"Cat\",\"Dog\"]\n",
    "name1=\"Apple\"\n",
    "name2=\"Ball\"\n",
    "name3=\"Egg\""
   ]
  },
  {
   "cell_type": "code",
   "execution_count": 19,
   "id": "2d2f1818",
   "metadata": {},
   "outputs": [
    {
     "name": "stdout",
     "output_type": "stream",
     "text": [
      "name1 is present in list\n"
     ]
    }
   ],
   "source": [
    "if(name1 not in list):\n",
    "    print(\"name1 is not present in list\")\n",
    "else:\n",
    "    print(\"name1 is present in list\")"
   ]
  },
  {
   "cell_type": "code",
   "execution_count": 20,
   "id": "8cd19a3e",
   "metadata": {},
   "outputs": [
    {
     "name": "stdout",
     "output_type": "stream",
     "text": [
      "name2 is not present in list\n"
     ]
    }
   ],
   "source": [
    "if(name2 in list):\n",
    "    print(\"name2 is present in list\")\n",
    "else:\n",
    "    print(\"name2 is not present in list\")"
   ]
  },
  {
   "cell_type": "code",
   "execution_count": 23,
   "id": "b37787a3",
   "metadata": {},
   "outputs": [
    {
     "name": "stdout",
     "output_type": "stream",
     "text": [
      "name3 is not present in list\n"
     ]
    }
   ],
   "source": [
    "if(name3 in list):\n",
    "    print(\"name3 is present in list\")\n",
    "else:\n",
    "    print(\"name3 is not present in list\")"
   ]
  },
  {
   "cell_type": "code",
   "execution_count": null,
   "id": "642d6acf",
   "metadata": {},
   "outputs": [],
   "source": []
  }
 ],
 "metadata": {
  "kernelspec": {
   "display_name": "Python 3 (ipykernel)",
   "language": "python",
   "name": "python3"
  },
  "language_info": {
   "codemirror_mode": {
    "name": "ipython",
    "version": 3
   },
   "file_extension": ".py",
   "mimetype": "text/x-python",
   "name": "python",
   "nbconvert_exporter": "python",
   "pygments_lexer": "ipython3",
   "version": "3.11.5"
  }
 },
 "nbformat": 4,
 "nbformat_minor": 5
}
