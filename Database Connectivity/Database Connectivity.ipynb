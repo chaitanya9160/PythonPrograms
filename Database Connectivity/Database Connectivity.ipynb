{
 "cells": [
  {
   "cell_type": "code",
   "execution_count": 7,
   "id": "39de0408",
   "metadata": {},
   "outputs": [
    {
     "name": "stdout",
     "output_type": "stream",
     "text": [
      "Requirement already satisfied: mysql-connector in c:\\users\\admin\\anaconda3\\lib\\site-packages (2.2.9)\n"
     ]
    }
   ],
   "source": [
    "!pip install mysql-connector"
   ]
  },
  {
   "cell_type": "code",
   "execution_count": null,
   "id": "05ef278a",
   "metadata": {},
   "outputs": [],
   "source": []
  },
  {
   "cell_type": "markdown",
   "id": "cf85bf87",
   "metadata": {},
   "source": [
    "# Establishing connectivity"
   ]
  },
  {
   "cell_type": "code",
   "execution_count": 8,
   "id": "5bf44262",
   "metadata": {},
   "outputs": [],
   "source": [
    "import mysql.connector"
   ]
  },
  {
   "cell_type": "code",
   "execution_count": 9,
   "id": "78f4fb81",
   "metadata": {},
   "outputs": [],
   "source": [
    "mydb=mysql.connector.connect(\n",
    "\n",
    "host=\"localhost\",\n",
    "user=\"root\",\n",
    "password=\"Root\",)"
   ]
  },
  {
   "cell_type": "code",
   "execution_count": 10,
   "id": "7ca0a68d",
   "metadata": {},
   "outputs": [
    {
     "name": "stdout",
     "output_type": "stream",
     "text": [
      "connection sucessfull\n"
     ]
    }
   ],
   "source": [
    "if(mydb):\n",
    "    print(\"connection sucessfull\")\n",
    "else:\n",
    "    print(\"connection unsucessfull\")"
   ]
  },
  {
   "cell_type": "code",
   "execution_count": 11,
   "id": "cd4c8d29",
   "metadata": {},
   "outputs": [],
   "source": [
    "mycursor=mydb.cursor() #cursor it is like a object"
   ]
  },
  {
   "cell_type": "code",
   "execution_count": 13,
   "id": "e7e967a3",
   "metadata": {},
   "outputs": [],
   "source": [
    "mycursor.execute(\"show databases\")"
   ]
  },
  {
   "cell_type": "code",
   "execution_count": 14,
   "id": "d387f0d5",
   "metadata": {},
   "outputs": [
    {
     "name": "stdout",
     "output_type": "stream",
     "text": [
      "('information_schema',)\n",
      "('clg',)\n",
      "('collage_dept_sys',)\n",
      "('college',)\n",
      "('department',)\n",
      "('mysql',)\n",
      "('performance_schema',)\n",
      "('sakila',)\n",
      "('sys',)\n",
      "('world',)\n"
     ]
    }
   ],
   "source": [
    "for tb in mycursor:\n",
    "    print(tb)"
   ]
  },
  {
   "cell_type": "code",
   "execution_count": 37,
   "id": "23d7ead7",
   "metadata": {},
   "outputs": [],
   "source": [
    "mydb=mysql.connector.connect(host=\"localhost\",database=\"collage_dept_sys\",user=\"root\",password=\"Root\")\n",
    "mycursor=mydb.cursor()"
   ]
  },
  {
   "cell_type": "markdown",
   "id": "8fc318c9",
   "metadata": {},
   "source": [
    "# Creating Table"
   ]
  },
  {
   "cell_type": "code",
   "execution_count": 38,
   "id": "8f7b2798",
   "metadata": {},
   "outputs": [],
   "source": [
    "mycursor.execute(\"show tables\") #tables show in above that database"
   ]
  },
  {
   "cell_type": "code",
   "execution_count": 39,
   "id": "3e478866",
   "metadata": {},
   "outputs": [
    {
     "name": "stdout",
     "output_type": "stream",
     "text": [
      "('add_sub',)\n",
      "('stud_certification',)\n",
      "('stud_fees',)\n",
      "('stud_result',)\n",
      "('student_hw_assignment',)\n",
      "('student_hw_practical',)\n",
      "('student_signup',)\n"
     ]
    }
   ],
   "source": [
    "for tb in mycursor:\n",
    "    print(tb)"
   ]
  },
  {
   "cell_type": "code",
   "execution_count": 51,
   "id": "f755d687",
   "metadata": {},
   "outputs": [],
   "source": [
    "import mysql.connector\n",
    "\n",
    "conn=mysql.connector.connect(host=\"localhost\",database=\"chaitu\",user=\"root\",password=\"Root\")\n",
    "\n",
    "cursor=conn.cursor()"
   ]
  },
  {
   "cell_type": "code",
   "execution_count": 34,
   "id": "1150cfcf",
   "metadata": {},
   "outputs": [],
   "source": [
    "create_query=\"\"\"\n",
    "\n",
    "Create Database chaitu\n",
    "\n",
    "\"\"\"\n",
    "\n",
    "cursor.execute(create_query)"
   ]
  },
  {
   "cell_type": "code",
   "execution_count": 43,
   "id": "7c8556b3",
   "metadata": {},
   "outputs": [],
   "source": [
    "create_query=\"\"\"\n",
    "\n",
    "Create Table emp_info(\n",
    "id  INT primary key,\n",
    "name VARCHAR(256),\n",
    "age INT,\n",
    "salary Float\n",
    ")\n",
    "\"\"\"\n",
    "\n",
    "cursor.execute(create_query)"
   ]
  },
  {
   "cell_type": "markdown",
   "id": "59d5e3b1",
   "metadata": {},
   "source": [
    "# Inserting Data"
   ]
  },
  {
   "cell_type": "code",
   "execution_count": 45,
   "id": "67f680b7",
   "metadata": {},
   "outputs": [],
   "source": [
    "# SQl query to insert data into tha table\n",
    "\n",
    "insert_query = \"Insert into emp_info (id,name,age,salary) Values(%s,%s,%s,%s)\"\n",
    ",\n",
    "#Data to be inserted\n",
    "data = (1,\"Chaitanya Patil\",20,50000)\n",
    "\n",
    "#Excute the sql query to insert data\n",
    "cursor.execute(insert_query, data)\n",
    "\n",
    "#commit the transaction\n",
    "conn.commit()"
   ]
  },
  {
   "cell_type": "code",
   "execution_count": 46,
   "id": "74fe696e",
   "metadata": {},
   "outputs": [],
   "source": [
    "insert_query = \"Insert into emp_info (id,name,age,salary) Values(%s,%s,%s,%s)\"\n",
    ",\n",
    "\n",
    "data = (2,\"Shweta Patil\",22,50000)\n",
    "\n",
    "#Excute the sql query to insert data\n",
    "cursor.execute(insert_query, data)\n",
    "\n",
    "#commit the transaction\n",
    "conn.commit()"
   ]
  },
  {
   "cell_type": "markdown",
   "id": "c1478187",
   "metadata": {},
   "source": [
    "# Retriving data"
   ]
  },
  {
   "cell_type": "code",
   "execution_count": 53,
   "id": "ba73ed9d",
   "metadata": {},
   "outputs": [
    {
     "data": {
      "text/plain": [
       "[(1, 'Chaitanya Patil', 20, 50000.0),\n",
       " (2, 'Shweta Patil', 22, 50000.0),\n",
       " (3, 'Jahn Doe', 30, 50000.0)]"
      ]
     },
     "execution_count": 53,
     "metadata": {},
     "output_type": "execute_result"
    }
   ],
   "source": [
    "# sql query to retriev data from the table\n",
    "select_query = \"Select * From emp_info\"\n",
    "\n",
    "#Execute the SQl query to fetch data\n",
    "cursor.execute(select_query)\n",
    "\n",
    "#fetch all rows\n",
    "row = cursor.fetchall()\n",
    "row\n",
    "\n"
   ]
  },
  {
   "cell_type": "markdown",
   "id": "be63f5b1",
   "metadata": {},
   "source": [
    "# Update data"
   ]
  },
  {
   "cell_type": "code",
   "execution_count": 55,
   "id": "b458caf9",
   "metadata": {},
   "outputs": [],
   "source": [
    "# SQL query to update data in the table\n",
    "update_query = \"UPDATE emp_info set Salary = %s WHERE name = %s\"\n",
    "\n",
    "#NEW Salary and employee name\n",
    "new_salary = 55000\n",
    "employee_name= \"Jahn Doe\"\n",
    "\n",
    "#Execute the sql query to update data\n",
    "cursor.execute(update_query, (new_salary, employee_name))\n",
    "\n",
    "#commit the transaction\n",
    "conn.commit()"
   ]
  },
  {
   "cell_type": "markdown",
   "id": "87d75202",
   "metadata": {},
   "source": [
    "# Deleting data"
   ]
  },
  {
   "cell_type": "code",
   "execution_count": 57,
   "id": "a44b2a20",
   "metadata": {},
   "outputs": [],
   "source": [
    "#Sql query to delete data from the table\n",
    "delete_query = \"DELETE FROM emp_info WHERE NAME = %s\"\n",
    "\n",
    "#Emplyoee name to be deleted\n",
    "employee_name = \"Shweta Patil\"\n",
    "\n",
    "#Excute the SQL query to delete data\n",
    "cursor.execute(delete_query,(employee_name,))\n",
    "\n",
    "#commit the transaction\n",
    "conn.commit()"
   ]
  },
  {
   "cell_type": "markdown",
   "id": "dee39572",
   "metadata": {},
   "source": [
    "# Closing the connection"
   ]
  },
  {
   "cell_type": "code",
   "execution_count": 58,
   "id": "bd3f20db",
   "metadata": {},
   "outputs": [],
   "source": [
    "#Close the cursor and connection\n",
    "cursor.close()\n",
    "conn.close()"
   ]
  },
  {
   "cell_type": "code",
   "execution_count": null,
   "id": "0ac297a6",
   "metadata": {},
   "outputs": [],
   "source": []
  }
 ],
 "metadata": {
  "kernelspec": {
   "display_name": "Python 3 (ipykernel)",
   "language": "python",
   "name": "python3"
  },
  "language_info": {
   "codemirror_mode": {
    "name": "ipython",
    "version": 3
   },
   "file_extension": ".py",
   "mimetype": "text/x-python",
   "name": "python",
   "nbconvert_exporter": "python",
   "pygments_lexer": "ipython3",
   "version": "3.11.5"
  }
 },
 "nbformat": 4,
 "nbformat_minor": 5
}
